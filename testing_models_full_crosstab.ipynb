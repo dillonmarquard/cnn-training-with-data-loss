{
 "cells": [
  {
   "cell_type": "code",
   "execution_count": 17,
   "metadata": {},
   "outputs": [],
   "source": [
    "import numpy as np # linear algebra\n",
    "import pandas as pd # data processing, CSV file I/O (e.g. pd.read_csv)\n",
    "import matplotlib.pyplot as plt # visualization\n",
    "import seaborn as sns # visualization\n",
    "# machine learning\n",
    "import torch \n",
    "import torch.nn as nn\n",
    "import torch.optim as optim\n",
    "import torchvision\n",
    "from torchvision import transforms, datasets, models\n",
    "\n",
    "import progressbar"
   ]
  },
  {
   "cell_type": "code",
   "execution_count": 18,
   "metadata": {},
   "outputs": [],
   "source": [
    "# implemented classes\n",
    "from BasicClassifier import BasicClassifier\n",
    "from DataAugment import DataAug\n",
    "from Metrics import Metrics"
   ]
  },
  {
   "cell_type": "code",
   "execution_count": 19,
   "metadata": {},
   "outputs": [
    {
     "name": "stdout",
     "output_type": "stream",
     "text": [
      "cpu\n"
     ]
    }
   ],
   "source": [
    "device = torch.device(\"cuda:0\" if torch.cuda.is_available() else \"cpu\")\n",
    "print(device)"
   ]
  },
  {
   "cell_type": "code",
   "execution_count": 20,
   "metadata": {},
   "outputs": [],
   "source": [
    "widgets = [\n",
    "    ' [', progressbar.Timer(), '] ',\n",
    "    progressbar.Percentage(), ' ',\n",
    "    progressbar.Bar(),\n",
    "    ' (', progressbar.ETA(), ') ',\n",
    "]"
   ]
  },
  {
   "cell_type": "code",
   "execution_count": 21,
   "metadata": {},
   "outputs": [],
   "source": [
    "# import mnist dataset\n",
    "dataset = \"MNIST\"\n",
    "BATCH_SIZE = 500\n",
    "num_classes = 10\n",
    "\n",
    "test_loader = torch.utils.data.DataLoader(\n",
    "    torchvision.datasets.MNIST('./data',\n",
    "                               train=False,\n",
    "                               download=True,\n",
    "                               transform=torchvision.transforms.ToTensor()),\n",
    "    batch_size=BATCH_SIZE,shuffle=True)"
   ]
  },
  {
   "cell_type": "code",
   "execution_count": 22,
   "metadata": {},
   "outputs": [],
   "source": [
    "# # import emnist dataset\n",
    "# dataset = \"EMNIST\"\n",
    "# BATCH_SIZE = 500\n",
    "# num_classes = 47\n",
    "\n",
    "# test_loader = torch.utils.data.DataLoader(\n",
    "#     torchvision.datasets.EMNIST('./data',\n",
    "#                                 split=\"balanced\",\n",
    "#                                train=False,\n",
    "#                                download=True,\n",
    "#                                transform=torchvision.transforms.ToTensor()),\n",
    "#     batch_size=BATCH_SIZE,shuffle=True)"
   ]
  },
  {
   "cell_type": "code",
   "execution_count": 23,
   "metadata": {},
   "outputs": [],
   "source": [
    "daug = DataAug()\n",
    "metric = Metrics()"
   ]
  },
  {
   "cell_type": "code",
   "execution_count": 24,
   "metadata": {},
   "outputs": [],
   "source": [
    "def display_testing_metrics(name,epoch_metrics):\n",
    "    sns.lineplot(x=list(epoch_metrics.keys()),y=np.array(list(epoch_metrics.values()),dtype=float)[:,1]) # precision\n",
    "    sns.lineplot(x=list(epoch_metrics.keys()),y=np.array(list(epoch_metrics.values()),dtype=float)[:,2]) # recall\n",
    "    sns.lineplot(x=list(epoch_metrics.keys()),y=np.array(list(epoch_metrics.values()),dtype=float)[:,0],) # accuracy\n",
    "    plt.xlim([0, 1])\n",
    "    plt.ylim([0, 1])\n",
    "    plt.xlabel('% loss')\n",
    "    plt.title(name)\n",
    "    \n",
    "def display_testing_metrics_hist(name,metrics):\n",
    "    sns.barplot(x=['accuracy','precision','recall'],y=metrics[0:3])\n",
    "    plt.ylim([0, 1])\n",
    "    plt.title(name)"
   ]
  },
  {
   "cell_type": "code",
   "execution_count": 26,
   "metadata": {},
   "outputs": [],
   "source": [
    "func_dict = {'rand_pixel':getattr(daug, 'rand_pixel'),\n",
    "             'rand_row':getattr(daug, 'rand_row'),\n",
    "             'rand_column':getattr(daug, 'rand_column'),\n",
    "             'rand_rowcol':getattr(daug, 'rand_rowcol'),\n",
    "             'rand_block':getattr(daug, 'rand_rowcol'),\n",
    "             'pattern_checkerboard':getattr(daug,'pattern_checkerboard'),\n",
    "             'pattern_column':getattr(daug,'pattern_column'),\n",
    "             'pattern_row':getattr(daug,'pattern_row')}\n",
    "\n",
    "model_dict = {'unaltered':None,\n",
    "              'rand_pixel':None,\n",
    "              'rand_row':None,\n",
    "              'rand_column':None,\n",
    "              'rand_rowcol':None,\n",
    "              #'rand_block':None,\n",
    "              'pattern_checkerboard':None,\n",
    "              'pattern_column':None,\n",
    "              'pattern_row':None}\n",
    "# import models\n",
    "proportion = 0.5\n",
    "for name in model_dict:\n",
    "    model_dict[name] = BasicClassifier(num_classes)\n",
    "    if name[0] == 'r':\n",
    "        model_dict[name].load_state_dict(torch.load('./models/{}/train({})/{}.h5'.format(dataset,proportion,name),map_location=device))\n",
    "    else:\n",
    "        model_dict[name].load_state_dict(torch.load('./models/{}/train({})/{}.h5'.format(dataset,\"definite\",name),map_location=device))"
   ]
  },
  {
   "cell_type": "code",
   "execution_count": null,
   "metadata": {},
   "outputs": [
    {
     "name": "stderr",
     "output_type": "stream",
     "text": [
      " [Elapsed Time: 0:02:11]   0% |                             | (ETA:  --:--:--) \r"
     ]
    }
   ],
   "source": [
    "crosstab_hist = {mname:{fname:{} for fname in func_dict} for mname in model_dict}\n",
    "rel_frequency_hist = {fname:[] for fname in func_dict}\n",
    "test_proportion = 0.5\n",
    "rel_pixel_threshold = 0.0\n",
    "\n",
    "bar = progressbar.ProgressBar(len(func_dict),widgets=widgets).start()\n",
    "# for cc, model_name in enumerate(model_dict):\n",
    "for dd, func_name in enumerate(func_dict):\n",
    "    rel_freq = []\n",
    "    for name in model_dict:\n",
    "        model_dict[name].metric.reset_confusion_matrix(num_classes)\n",
    "\n",
    "    with torch.no_grad():\n",
    "        for i, (inputs, labels) in enumerate(test_loader):\n",
    "            lossyinputs = func_dict[func_name](inputs=inputs,proportion=test_proportion) # by default same as training\n",
    "            for model_name in model_dict:\n",
    "                outputs = model_dict[model_name](lossyinputs.to(device))\n",
    "                # statistics\n",
    "                model_dict[model_name].metric.update_confusion_matrix(outputs.to('cpu'),labels)\n",
    "                # statistics on frequency of lost relevant pixels\n",
    "                rel_freq = np.concatenate((rel_freq,(((inputs > rel_pixel_threshold).sum(2).sum(2) - (lossyinputs > rel_pixel_threshold).sum(2).sum(2))/(inputs > rel_pixel_threshold).sum(2).sum(2)).reshape(-1).to('cpu').numpy()))\n",
    "        # progressbar\n",
    "        bar.update(dd)\n",
    "        for model_name in model_dict:\n",
    "            crosstab_hist[model_name][func_name] = model_dict[model_name].metric.classification_metrics() # we just want the metrics for a single proportion\n",
    "        rel_frequency_hist[func_name] = rel_freq"
   ]
  },
  {
   "cell_type": "code",
   "execution_count": null,
   "metadata": {},
   "outputs": [],
   "source": [
    "fig, axarr = plt.subplots(len(crosstab_hist.keys())+1, len(crosstab_hist[list(crosstab_hist.keys())[0]].keys()),figsize=(40,35))\n",
    "for i, model in enumerate(crosstab_hist.keys()):\n",
    "    for j, func in enumerate(crosstab_hist[model].keys()):\n",
    "        plt.sca(axarr[i, j]) \n",
    "        display_testing_metrics_hist(\"{} on set {}\".format(model,func),crosstab_hist[model][func])\n",
    "for j, func_name in enumerate(rel_frequency_hist):\n",
    "    plt.sca(axarr[len(crosstab_hist.keys()), j]) \n",
    "    sns.histplot(rel_frequency_hist[func_name],bins=15)\n",
    "plt.suptitle('Crosstab Testing({}) @ {}'.format(proportion,test_proportion))\n",
    "fig.subplots_adjust(top=0.95)\n",
    "plt.show()"
   ]
  },
  {
   "cell_type": "code",
   "execution_count": null,
   "metadata": {},
   "outputs": [],
   "source": []
  }
 ],
 "metadata": {
  "kernelspec": {
   "display_name": "Python 3",
   "language": "python",
   "name": "python3"
  },
  "language_info": {
   "codemirror_mode": {
    "name": "ipython",
    "version": 3
   },
   "file_extension": ".py",
   "mimetype": "text/x-python",
   "name": "python",
   "nbconvert_exporter": "python",
   "pygments_lexer": "ipython3",
   "version": "3.7.9"
  }
 },
 "nbformat": 4,
 "nbformat_minor": 4
}
