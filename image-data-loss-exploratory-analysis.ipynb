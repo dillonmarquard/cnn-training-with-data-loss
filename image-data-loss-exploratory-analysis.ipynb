{
 "cells": [
  {
   "cell_type": "markdown",
   "id": "695857bf",
   "metadata": {
    "papermill": {
     "duration": 0.031804,
     "end_time": "2021-10-16T06:27:40.285708",
     "exception": false,
     "start_time": "2021-10-16T06:27:40.253904",
     "status": "completed"
    },
    "tags": []
   },
   "source": [
    "# Image Data Loss Exploratory Analysis"
   ]
  },
  {
   "cell_type": "markdown",
   "id": "227be09b",
   "metadata": {
    "papermill": {
     "duration": 0.028762,
     "end_time": "2021-10-16T06:27:40.344416",
     "exception": false,
     "start_time": "2021-10-16T06:27:40.315654",
     "status": "completed"
    },
    "tags": []
   },
   "source": [
    "## Setup Environment"
   ]
  },
  {
   "cell_type": "code",
   "execution_count": 1,
   "id": "3639d11f",
   "metadata": {
    "_cell_guid": "b1076dfc-b9ad-4769-8c92-a6c4dae69d19",
    "_uuid": "8f2839f25d086af736a60e9eeb907d3b93b6e0e5",
    "execution": {
     "iopub.execute_input": "2021-10-16T06:27:40.407692Z",
     "iopub.status.busy": "2021-10-16T06:27:40.406189Z",
     "iopub.status.idle": "2021-10-16T06:27:55.769450Z",
     "shell.execute_reply": "2021-10-16T06:27:55.770907Z",
     "shell.execute_reply.started": "2021-10-16T05:15:51.263097Z"
    },
    "papermill": {
     "duration": 15.39773,
     "end_time": "2021-10-16T06:27:55.771303",
     "exception": false,
     "start_time": "2021-10-16T06:27:40.373573",
     "status": "completed"
    },
    "tags": []
   },
   "outputs": [
    {
     "name": "stdout",
     "output_type": "stream",
     "text": [
      "Collecting progressbar\r\n",
      "  Downloading progressbar-2.5.tar.gz (10 kB)\r\n",
      "Building wheels for collected packages: progressbar\r\n",
      "  Building wheel for progressbar (setup.py) ... \u001b[?25l-\b \b\\\b \bdone\r\n",
      "\u001b[?25h  Created wheel for progressbar: filename=progressbar-2.5-py3-none-any.whl size=12082 sha256=c60e3c647cf0256cbd817cb20b34862ab14c369dd3ace6d87a3f3aec229da55b\r\n",
      "  Stored in directory: /root/.cache/pip/wheels/f0/fd/1f/3e35ed57e94cd8ced38dd46771f1f0f94f65fec548659ed855\r\n",
      "Successfully built progressbar\r\n",
      "Installing collected packages: progressbar\r\n",
      "Successfully installed progressbar-2.5\r\n",
      "\u001b[33mWARNING: Running pip as the 'root' user can result in broken permissions and conflicting behaviour with the system package manager. It is recommended to use a virtual environment instead: https://pip.pypa.io/warnings/venv\u001b[0m\r\n"
     ]
    }
   ],
   "source": [
    "# This Python 3 environment comes with many helpful analytics libraries installed\n",
    "# It is defined by the kaggle/python Docker image: https://github.com/kaggle/docker-python\n",
    "# For example, here's several helpful packages to load\n",
    "\n",
    "import numpy as np # linear algebra\n",
    "import pandas as pd # data processing, CSV file I/O (e.g. pd.read_csv)\n",
    "import matplotlib.pyplot as plt # visualization\n",
    "import seaborn as sns # visualization\n",
    "# machine learning\n",
    "import torch \n",
    "import torch.nn as nn\n",
    "import torch.optim as optim\n",
    "import torchvision\n",
    "from torchvision import transforms, datasets, models\n",
    "\n",
    "!pip3 install progressbar\n",
    "import progressbar\n",
    "\n",
    "# Input data files are available in the read-only \"../input/\" directory\n",
    "# For example, running this (by clicking run or pressing Shift+Enter) will list all files under the input directory\n",
    "\n",
    "import os\n",
    "for dirname, _, filenames in os.walk('/kaggle/input'):\n",
    "    for filename in filenames:\n",
    "        print(os.path.join(dirname, filename))\n",
    "\n",
    "# You can write up to 20GB to the current directory (/kaggle/working/) that gets preserved as output when you create a version using \"Save & Run All\" \n",
    "# You can also write temporary files to /kaggle/temp/, but they won't be saved outside of the current session"
   ]
  },
  {
   "cell_type": "code",
   "execution_count": 2,
   "id": "b4685cb1",
   "metadata": {
    "execution": {
     "iopub.execute_input": "2021-10-16T06:27:55.919682Z",
     "iopub.status.busy": "2021-10-16T06:27:55.918783Z",
     "iopub.status.idle": "2021-10-16T06:27:55.925893Z",
     "shell.execute_reply": "2021-10-16T06:27:55.926354Z",
     "shell.execute_reply.started": "2021-10-16T05:16:09.873843Z"
    },
    "papermill": {
     "duration": 0.09905,
     "end_time": "2021-10-16T06:27:55.926537",
     "exception": false,
     "start_time": "2021-10-16T06:27:55.827487",
     "status": "completed"
    },
    "tags": []
   },
   "outputs": [
    {
     "name": "stdout",
     "output_type": "stream",
     "text": [
      "cuda:0\n"
     ]
    }
   ],
   "source": [
    "device = torch.device(\"cuda:0\" if torch.cuda.is_available() else \"cpu\")\n",
    "print(device)"
   ]
  },
  {
   "cell_type": "markdown",
   "id": "68f7088f",
   "metadata": {
    "papermill": {
     "duration": 0.031236,
     "end_time": "2021-10-16T06:27:55.990384",
     "exception": false,
     "start_time": "2021-10-16T06:27:55.959148",
     "status": "completed"
    },
    "tags": []
   },
   "source": [
    "## Load MNIST Dataset"
   ]
  },
  {
   "cell_type": "code",
   "execution_count": 3,
   "id": "3ef969c5",
   "metadata": {
    "execution": {
     "iopub.execute_input": "2021-10-16T06:27:56.055820Z",
     "iopub.status.busy": "2021-10-16T06:27:56.054974Z",
     "iopub.status.idle": "2021-10-16T06:27:57.828520Z",
     "shell.execute_reply": "2021-10-16T06:27:57.829115Z",
     "shell.execute_reply.started": "2021-10-16T05:16:09.947627Z"
    },
    "papermill": {
     "duration": 1.807687,
     "end_time": "2021-10-16T06:27:57.829309",
     "exception": false,
     "start_time": "2021-10-16T06:27:56.021622",
     "status": "completed"
    },
    "tags": []
   },
   "outputs": [
    {
     "name": "stdout",
     "output_type": "stream",
     "text": [
      "Downloading http://yann.lecun.com/exdb/mnist/train-images-idx3-ubyte.gz to /kaggle/working/MNIST/raw/train-images-idx3-ubyte.gz\n"
     ]
    },
    {
     "data": {
      "application/vnd.jupyter.widget-view+json": {
       "model_id": "cd75aa8128d64abc962ca67e6b86172a",
       "version_major": 2,
       "version_minor": 0
      },
      "text/plain": [
       "0it [00:00, ?it/s]"
      ]
     },
     "metadata": {},
     "output_type": "display_data"
    },
    {
     "name": "stdout",
     "output_type": "stream",
     "text": [
      "Extracting /kaggle/working/MNIST/raw/train-images-idx3-ubyte.gz to /kaggle/working/MNIST/raw\n",
      "Downloading http://yann.lecun.com/exdb/mnist/train-labels-idx1-ubyte.gz to /kaggle/working/MNIST/raw/train-labels-idx1-ubyte.gz\n"
     ]
    },
    {
     "data": {
      "application/vnd.jupyter.widget-view+json": {
       "model_id": "4d4da3b0bb984ef597a156b3ec87e5f9",
       "version_major": 2,
       "version_minor": 0
      },
      "text/plain": [
       "0it [00:00, ?it/s]"
      ]
     },
     "metadata": {},
     "output_type": "display_data"
    },
    {
     "name": "stdout",
     "output_type": "stream",
     "text": [
      "Extracting /kaggle/working/MNIST/raw/train-labels-idx1-ubyte.gz to /kaggle/working/MNIST/raw\n",
      "Downloading http://yann.lecun.com/exdb/mnist/t10k-images-idx3-ubyte.gz to /kaggle/working/MNIST/raw/t10k-images-idx3-ubyte.gz\n"
     ]
    },
    {
     "data": {
      "application/vnd.jupyter.widget-view+json": {
       "model_id": "2a82897c781e4ce69c2778b84b4faaad",
       "version_major": 2,
       "version_minor": 0
      },
      "text/plain": [
       "0it [00:00, ?it/s]"
      ]
     },
     "metadata": {},
     "output_type": "display_data"
    },
    {
     "name": "stdout",
     "output_type": "stream",
     "text": [
      "Extracting /kaggle/working/MNIST/raw/t10k-images-idx3-ubyte.gz to /kaggle/working/MNIST/raw\n",
      "Downloading http://yann.lecun.com/exdb/mnist/t10k-labels-idx1-ubyte.gz to /kaggle/working/MNIST/raw/t10k-labels-idx1-ubyte.gz\n"
     ]
    },
    {
     "data": {
      "application/vnd.jupyter.widget-view+json": {
       "model_id": "f06d0932c9624b939a2d9b0da0858ac0",
       "version_major": 2,
       "version_minor": 0
      },
      "text/plain": [
       "0it [00:00, ?it/s]"
      ]
     },
     "metadata": {},
     "output_type": "display_data"
    },
    {
     "name": "stdout",
     "output_type": "stream",
     "text": [
      "Extracting /kaggle/working/MNIST/raw/t10k-labels-idx1-ubyte.gz to /kaggle/working/MNIST/raw\n",
      "Processing...\n",
      "Done!\n"
     ]
    },
    {
     "name": "stderr",
     "output_type": "stream",
     "text": [
      "/opt/conda/lib/python3.7/site-packages/torchvision/datasets/mnist.py:480: UserWarning: The given NumPy array is not writeable, and PyTorch does not support non-writeable tensors. This means you can write to the underlying (supposedly non-writeable) NumPy array using the tensor. You may want to copy the array to protect its data or make it writeable before converting it to a tensor. This type of warning will be suppressed for the rest of this program. (Triggered internally at  /pytorch/torch/csrc/utils/tensor_numpy.cpp:141.)\n",
      "  return torch.from_numpy(parsed.astype(m[2], copy=False)).view(*s)\n"
     ]
    }
   ],
   "source": [
    "# import mnist dataset\n",
    "BATCH_SIZE = 500\n",
    "\n",
    "train_loader = torch.utils.data.DataLoader(\n",
    "    torchvision.datasets.MNIST('/kaggle/working',\n",
    "                               train=True,\n",
    "                               download=True,\n",
    "                               transform=torchvision.transforms.ToTensor()),\n",
    "    batch_size=BATCH_SIZE,shuffle=True)\n",
    "\n",
    "test_loader = torch.utils.data.DataLoader(\n",
    "    torchvision.datasets.MNIST('/kaggle/working',\n",
    "                               train=False,\n",
    "                               download=True,\n",
    "                               transform=torchvision.transforms.ToTensor()),\n",
    "    batch_size=BATCH_SIZE,shuffle=True)"
   ]
  },
  {
   "cell_type": "markdown",
   "id": "b153a724",
   "metadata": {
    "papermill": {
     "duration": 0.034131,
     "end_time": "2021-10-16T06:27:57.899544",
     "exception": false,
     "start_time": "2021-10-16T06:27:57.865413",
     "status": "completed"
    },
    "tags": []
   },
   "source": [
    "## MNIST Classifier / Baseline Model"
   ]
  },
  {
   "cell_type": "code",
   "execution_count": 4,
   "id": "8e27bd5d",
   "metadata": {
    "execution": {
     "iopub.execute_input": "2021-10-16T06:27:57.977314Z",
     "iopub.status.busy": "2021-10-16T06:27:57.971115Z",
     "iopub.status.idle": "2021-10-16T06:27:57.979749Z",
     "shell.execute_reply": "2021-10-16T06:27:57.979299Z",
     "shell.execute_reply.started": "2021-10-16T05:16:11.400557Z"
    },
    "papermill": {
     "duration": 0.046134,
     "end_time": "2021-10-16T06:27:57.979855",
     "exception": false,
     "start_time": "2021-10-16T06:27:57.933721",
     "status": "completed"
    },
    "tags": []
   },
   "outputs": [],
   "source": [
    "class BasicClassifier(nn.Module):\n",
    "    def __init__(self,num_classes) -> None:\n",
    "        self.num_classes = num_classes\n",
    "        self.metric = Metrics()\n",
    "        super(BasicClassifier, self).__init__()\n",
    "        self.features = nn.Sequential(\n",
    "            nn.Conv2d(1,64,kernel_size=7),\n",
    "            nn.ReLU(inplace=True),\n",
    "            nn.Conv2d(64,128,kernel_size=11),\n",
    "            nn.ReLU(inplace=True),\n",
    "            nn.Conv2d(128,182,kernel_size=3),\n",
    "            nn.ReLU(inplace=True),\n",
    "            nn.Conv2d(182,256,kernel_size=5),\n",
    "        )\n",
    "        self.classifier = nn.Sequential(\n",
    "            nn.Linear(256 * 6 * 6, 4096),\n",
    "            nn.ReLU(inplace=True),\n",
    "            nn.Linear(4096,2048),\n",
    "            nn.ReLU(inplace=True),\n",
    "            nn.Linear(2048,1024),\n",
    "            nn.ReLU(inplace=True),\n",
    "            nn.Linear(1024,num_classes),\n",
    "        )\n",
    "    def forward(self, x: torch.Tensor) -> torch.Tensor:\n",
    "        x = self.features(x)\n",
    "        x = torch.flatten(x, 1)\n",
    "        x = self.classifier(x)\n",
    "        return x"
   ]
  },
  {
   "cell_type": "markdown",
   "id": "6b3a1570",
   "metadata": {
    "papermill": {
     "duration": 0.034136,
     "end_time": "2021-10-16T06:27:58.048550",
     "exception": false,
     "start_time": "2021-10-16T06:27:58.014414",
     "status": "completed"
    },
    "tags": []
   },
   "source": [
    "# Model Trainer"
   ]
  },
  {
   "cell_type": "code",
   "execution_count": 5,
   "id": "3ae74f01",
   "metadata": {
    "execution": {
     "iopub.execute_input": "2021-10-16T06:27:58.130354Z",
     "iopub.status.busy": "2021-10-16T06:27:58.121135Z",
     "iopub.status.idle": "2021-10-16T06:27:58.132782Z",
     "shell.execute_reply": "2021-10-16T06:27:58.132350Z",
     "shell.execute_reply.started": "2021-10-16T06:21:49.010409Z"
    },
    "papermill": {
     "duration": 0.049933,
     "end_time": "2021-10-16T06:27:58.132884",
     "exception": false,
     "start_time": "2021-10-16T06:27:58.082951",
     "status": "completed"
    },
    "tags": []
   },
   "outputs": [],
   "source": [
    "def train(model,train_loader,datafunc,proportion,optimizer,criterion,NUM_CLASSSES=10,NUM_EPOCHS=15):\n",
    "    epoch_metrics = {}\n",
    "    bar = progressbar.ProgressBar(NUM_EPOCHS*len(train_loader),widgets=widgets).start()\n",
    "    for epoch in range(NUM_EPOCHS):\n",
    "        model.metric.reset_confusion_matrix(NUM_CLASSSES)\n",
    "        for i, (inputs, labels) in enumerate(train_loader):\n",
    "            optimizer.zero_grad()\n",
    "            outputs = model(datafunc(inputs,proportion).to(device))\n",
    "            loss = criterion(outputs, labels.to(device))\n",
    "            loss.backward()\n",
    "            optimizer.step()\n",
    "            # statistics\n",
    "            model.metric.update_confusion_matrix(outputs.to('cpu'),labels)\n",
    "            # progressbar\n",
    "            bar.update(epoch*len(train_loader)+i)\n",
    "        epoch_metrics[epoch] = model.metric.classification_metrics()\n",
    "    return epoch_metrics\n",
    "\n",
    "def display_training_metrics(name,epoch_metrics):\n",
    "    sns.lineplot(x=list(epoch_metrics.keys()),y=np.array(list(epoch_metrics.values()),dtype=float)[:,1]) # precision\n",
    "    sns.lineplot(x=list(epoch_metrics.keys()),y=np.array(list(epoch_metrics.values()),dtype=float)[:,2]) # recall\n",
    "    sns.lineplot(x=list(epoch_metrics.keys()),y=np.array(list(epoch_metrics.values()),dtype=float)[:,0],) # accuracy\n",
    "    plt.xlabel('epoch')\n",
    "    plt.title(name)\n",
    "    \n",
    "\n",
    "def display_testing_metrics(name,epoch_metrics):\n",
    "    sns.lineplot(x=list(epoch_metrics.keys()),y=np.array(list(epoch_metrics.values()),dtype=float)[:,1]) # precision\n",
    "    sns.lineplot(x=list(epoch_metrics.keys()),y=np.array(list(epoch_metrics.values()),dtype=float)[:,2]) # recall\n",
    "    sns.lineplot(x=list(epoch_metrics.keys()),y=np.array(list(epoch_metrics.values()),dtype=float)[:,0],) # accuracy\n",
    "    plt.xlim([0, 1])\n",
    "    plt.ylim([0, 1])\n",
    "    plt.xlabel('% loss')\n",
    "    plt.title(name)"
   ]
  },
  {
   "cell_type": "markdown",
   "id": "35c6707a",
   "metadata": {
    "papermill": {
     "duration": 0.03524,
     "end_time": "2021-10-16T06:27:58.202387",
     "exception": false,
     "start_time": "2021-10-16T06:27:58.167147",
     "status": "completed"
    },
    "tags": []
   },
   "source": [
    "## Metrics Class"
   ]
  },
  {
   "cell_type": "code",
   "execution_count": 6,
   "id": "d2d6957d",
   "metadata": {
    "execution": {
     "iopub.execute_input": "2021-10-16T06:27:58.291462Z",
     "iopub.status.busy": "2021-10-16T06:27:58.290683Z",
     "iopub.status.idle": "2021-10-16T06:27:58.293026Z",
     "shell.execute_reply": "2021-10-16T06:27:58.292531Z",
     "shell.execute_reply.started": "2021-10-16T05:16:11.440242Z"
    },
    "papermill": {
     "duration": 0.056254,
     "end_time": "2021-10-16T06:27:58.293124",
     "exception": false,
     "start_time": "2021-10-16T06:27:58.236870",
     "status": "completed"
    },
    "tags": []
   },
   "outputs": [],
   "source": [
    "class Metrics:\n",
    "    def __init__(self):\n",
    "        pass\n",
    "    \n",
    "    def update_confusion_matrix(self, outputs: torch.Tensor, labels: torch.Tensor) -> None:       \n",
    "        for (guess,label) in zip(outputs.argmax(1),labels):\n",
    "            self.confusion_matrix[guess,label] += 1\n",
    "            \n",
    "    def get_confusion_matrix(self,norm=False) -> np.array:\n",
    "        if norm:\n",
    "            return self.confusion_matrix / self.confusion_matrix.sum()\n",
    "        return self.confusion_matrix\n",
    "    \n",
    "    def reset_confusion_matrix(self,num_classes: int) -> None:\n",
    "        self.confusion_matrix = np.zeros((num_classes,num_classes))\n",
    "    \n",
    "    def classification_metrics(self,print_=False) -> tuple:\n",
    "        stats = [self.accuracy(),self.precision(),self.recall(),self.f1_score(),self.confusion_matrix.sum()]\n",
    "        s = \"Accuracy: {}\\nPrecision: {}\\nRecall: {}\\nf1-score: {}\\nSupport: {}\".format(stats[0],stats[1],stats[2],stats[3],stats[4])\n",
    "        if print_:\n",
    "            print(s)\n",
    "        return stats\n",
    "    \n",
    "    def accuracy(self) -> float:\n",
    "        stat = np.diag(self.confusion_matrix).sum() / self.confusion_matrix.sum()\n",
    "        if np.isnan(stat) or np.isinf(stat):\n",
    "            return 0.0\n",
    "        else:\n",
    "            return stat\n",
    "        \n",
    "    def precision(self) -> float:\n",
    "        stat = np.nanmean(np.diag(self.confusion_matrix) / np.sum(self.confusion_matrix, axis = 0))\n",
    "        if np.isnan(stat) or np.isinf(stat):\n",
    "            return 0.0\n",
    "        else:\n",
    "            return stat\n",
    "        return stat\n",
    "        \n",
    "    def recall(self) -> float:\n",
    "        stat = np.nanmean(np.diag(self.confusion_matrix) / np.sum(self.confusion_matrix, axis = 1))\n",
    "        if np.isnan(stat) or np.isinf(stat):\n",
    "            return 0.0\n",
    "        return stat\n",
    "    \n",
    "    def f1_score(self) -> float:\n",
    "        p = self.precision()\n",
    "        r = self.recall()\n",
    "        stat = 2.0*(p*r)/(p+r)\n",
    "        if np.isnan(stat):\n",
    "            return 0.0\n",
    "        else:\n",
    "            return stat\n",
    "    \n",
    "    def feature_map(self,inputs: torch.Tensor,model,print_=False):\n",
    "        no_of_layers=0\n",
    "        conv_layers=[]\n",
    "\n",
    "        model_children=list(model.children())\n",
    "\n",
    "        for child in model_children:\n",
    "            if type(child)==nn.Conv2d:\n",
    "                conv_layers.append(child)\n",
    "            elif type(child) == nn.Sequential:\n",
    "                for layer in child.children():\n",
    "                    if type(layer) == nn.Conv2d:\n",
    "                        conv_layers.append(layer)\n",
    "#         (inputs,labels) = next(iter(test_loader))\n",
    "        results = [conv_layers[0](inputs.to(device))]\n",
    "        for i in range(1, len(conv_layers)):\n",
    "            results.append(conv_layers[i](results[-1]))\n",
    "        outputs = results\n",
    "        if print_:\n",
    "            plt.imshow(inputs[0,0].to('cpu'),cmap='Greys')\n",
    "            plt.show()\n",
    "            for num_layer in range(len(outputs)):\n",
    "                plt.figure(figsize=(50, 10))\n",
    "                layer_viz = outputs[num_layer][0, :, :, :]\n",
    "                layer_viz = layer_viz.data\n",
    "#                 print(\"Layer \",num_layer+1)\n",
    "                for i, filter in enumerate(layer_viz.to('cpu')):\n",
    "                    if i == 8: \n",
    "                        break\n",
    "                    plt.subplot(2, 8, i + 1)\n",
    "                    plt.imshow(filter, cmap='gray')\n",
    "                    plt.axis(\"off\")\n",
    "                plt.show()\n",
    "                plt.close()\n",
    "        return results\n",
    "    \n",
    "    def feature_map_diff(map1,map1_loss) -> np.array:\n",
    "        pass\n",
    "metric = Metrics()"
   ]
  },
  {
   "cell_type": "markdown",
   "id": "3585746b",
   "metadata": {
    "papermill": {
     "duration": 0.034469,
     "end_time": "2021-10-16T06:27:58.361818",
     "exception": false,
     "start_time": "2021-10-16T06:27:58.327349",
     "status": "completed"
    },
    "tags": []
   },
   "source": [
    "# Data Loss Class\n",
    "\n",
    "\n"
   ]
  },
  {
   "cell_type": "code",
   "execution_count": 7,
   "id": "cdfd2262",
   "metadata": {
    "execution": {
     "iopub.execute_input": "2021-10-16T06:27:58.449016Z",
     "iopub.status.busy": "2021-10-16T06:27:58.443149Z",
     "iopub.status.idle": "2021-10-16T06:27:58.450900Z",
     "shell.execute_reply": "2021-10-16T06:27:58.451324Z",
     "shell.execute_reply.started": "2021-10-16T05:16:11.469818Z"
    },
    "papermill": {
     "duration": 0.055306,
     "end_time": "2021-10-16T06:27:58.451467",
     "exception": false,
     "start_time": "2021-10-16T06:27:58.396161",
     "status": "completed"
    },
    "tags": []
   },
   "outputs": [],
   "source": [
    "class DataLoss:\n",
    "    def __init__(self):\n",
    "        pass\n",
    "    def unaltered(self,inputs: torch.Tensor,ppp: float=0.0) -> torch.Tensor:\n",
    "        return inputs\n",
    "    \n",
    "    def random_per_pixel(self,inputs: torch.Tensor,ppp: float=0.0) -> torch.Tensor:\n",
    "        # ppp: proportion per pixel\n",
    "        lossyinputs = torch.clone(inputs)\n",
    "        mask = torch.Tensor(np.random.rand(inputs.shape[0],inputs.shape[1],inputs.shape[2],inputs.shape[3]))\n",
    "        lossyinputs = lossyinputs * (mask > ppp)\n",
    "        return lossyinputs.type(torch.FloatTensor)\n",
    "    \n",
    "    def random_per_img(self,inputs: torch.Tensor,ppp: float=0.0) -> torch.Tensor:\n",
    "        if int(inputs.shape[2]*inputs.shape[3]*ppp) < 1:\n",
    "            return inputs\n",
    "        if ppp > 1.0:\n",
    "            ppp = 1.0\n",
    "        num_loss = int(inputs.shape[2]*inputs.shape[3]*ppp)\n",
    "        lossyinputs = torch.clone(inputs)\n",
    "        mask = np.concatenate((np.zeros((inputs.shape[0],num_loss)),np.ones((inputs.shape[0],int(inputs.shape[2]*inputs.shape[3] - num_loss)))),axis=1)\n",
    "        for i in range(inputs.shape[0]):\n",
    "            np.random.shuffle(mask[i])\n",
    "        mask = torch.Tensor(mask.reshape((inputs.shape[0],inputs.shape[1],inputs.shape[2],inputs.shape[3])))\n",
    "        lossyinputs *= mask\n",
    "        return lossyinputs.type(torch.FloatTensor)\n",
    "    \n",
    "    def columns_per_img(self,inputs: torch.Tensor,ppp: float=0.0) -> torch.Tensor:\n",
    "        num_col = int(inputs.shape[3]*ppp)\n",
    "        to_rem = np.random.choice([x for x in range(inputs.shape[2])],size=num_col,replace=False)\n",
    "        mask = np.ones((inputs.shape[0],inputs.shape[1],inputs.shape[2],inputs.shape[3]))\n",
    "        for col in to_rem:\n",
    "            mask[:,:,:,col] = 0\n",
    "        lossyinputs = torch.clone(inputs)*mask\n",
    "        return lossyinputs.type(torch.FloatTensor)\n",
    "    \n",
    "    def rows_per_img(self,inputs: torch.Tensor,ppp: float=0.0) -> torch.Tensor:\n",
    "        num_row = int(inputs.shape[2]*ppp)\n",
    "        to_rem = np.random.choice([x for x in range(inputs.shape[2])],size=num_row,replace=False)\n",
    "        mask = np.ones((inputs.shape[0],inputs.shape[1],inputs.shape[2],inputs.shape[3]))\n",
    "        for row in to_rem:\n",
    "            mask[:,:,row,:] = 0\n",
    "        lossyinputs = torch.clone(inputs)*mask\n",
    "        return lossyinputs.type(torch.FloatTensor)\n",
    "    \n",
    "    def rowcol_per_img(self,inputs: torch.Tensor,ppp: float=0.0) -> torch.Tensor:\n",
    "        lossyinputs = torch.clone(inputs)\n",
    "        lossyinputs = self.rows_per_img(lossyinputs,ppp*.85)\n",
    "        lossyinputs = self.columns_per_img(lossyinputs,ppp*.85)\n",
    "        return lossyinputs.type(torch.FloatTensor)\n",
    "    \n",
    "dloss = DataLoss()"
   ]
  },
  {
   "cell_type": "code",
   "execution_count": 8,
   "id": "cc30ccff",
   "metadata": {
    "execution": {
     "iopub.execute_input": "2021-10-16T06:27:58.530653Z",
     "iopub.status.busy": "2021-10-16T06:27:58.530119Z",
     "iopub.status.idle": "2021-10-16T06:27:59.639037Z",
     "shell.execute_reply": "2021-10-16T06:27:59.638609Z",
     "shell.execute_reply.started": "2021-10-16T05:16:11.496086Z"
    },
    "papermill": {
     "duration": 1.153318,
     "end_time": "2021-10-16T06:27:59.639161",
     "exception": false,
     "start_time": "2021-10-16T06:27:58.485843",
     "status": "completed"
    },
    "tags": []
   },
   "outputs": [
    {
     "data": {
      "image/png": "[encoded data removed]",
      "text/plain": [
       "<Figure size 432x288 with 1 Axes>"
      ]
     },
     "metadata": {
      "needs_background": "light"
     },
     "output_type": "display_data"
    },
    {
     "data": {
      "image/png": "[encoded data removed]",
      "text/plain": [
       "<Figure size 432x288 with 1 Axes>"
      ]
     },
     "metadata": {
      "needs_background": "light"
     },
     "output_type": "display_data"
    },
    {
     "data": {
      "image/png": "[encoded data removed]",
      "text/plain": [
       "<Figure size 432x288 with 1 Axes>"
      ]
     },
     "metadata": {
      "needs_background": "light"
     },
     "output_type": "display_data"
    },
    {
     "data": {
      "image/png": "[encoded data removed]",
      "text/plain": [
       "<Figure size 432x288 with 1 Axes>"
      ]
     },
     "metadata": {
      "needs_background": "light"
     },
     "output_type": "display_data"
    },
    {
     "data": {
      "image/png": "[encoded data removed]",
      "text/plain": [
       "<Figure size 432x288 with 1 Axes>"
      ]
     },
     "metadata": {
      "needs_background": "light"
     },
     "output_type": "display_data"
    },
    {
     "data": {
      "image/png": "[encoded data removed]",
      "text/plain": [
       "<Figure size 432x288 with 1 Axes>"
      ]
     },
     "metadata": {
      "needs_background": "light"
     },
     "output_type": "display_data"
    }
   ],
   "source": [
    "inputs = next(iter(train_loader))[0]\n",
    "plt.imshow(inputs[0][0],cmap='Greys')\n",
    "plt.title('raw')\n",
    "plt.show()\n",
    "plt.imshow(dloss.random_per_pixel(inputs,0.3)[0][0],cmap='Greys')\n",
    "plt.title('random_per_pixel')\n",
    "plt.show()\n",
    "plt.imshow(dloss.random_per_img(inputs,0.3)[0][0],cmap='Greys')\n",
    "plt.title('random_per_img')\n",
    "plt.show()\n",
    "plt.imshow(dloss.columns_per_img(inputs,0.3)[0][0],cmap='Greys')\n",
    "plt.title('columns_per_img')\n",
    "plt.show()\n",
    "plt.imshow(dloss.rows_per_img(inputs,0.3)[0][0],cmap='Greys')\n",
    "plt.title('rows_per_img')\n",
    "plt.show()\n",
    "plt.imshow(dloss.rowcol_per_img(inputs,0.3)[0][0],cmap='Greys')\n",
    "plt.title('rowcol_per_img')\n",
    "plt.show()"
   ]
  },
  {
   "cell_type": "markdown",
   "id": "f9f29ec7",
   "metadata": {
    "papermill": {
     "duration": 0.03755,
     "end_time": "2021-10-16T06:27:59.714607",
     "exception": false,
     "start_time": "2021-10-16T06:27:59.677057",
     "status": "completed"
    },
    "tags": []
   },
   "source": [
    "# Model trained on unaltered data"
   ]
  },
  {
   "cell_type": "code",
   "execution_count": 9,
   "id": "3ee397fc",
   "metadata": {
    "execution": {
     "iopub.execute_input": "2021-10-16T06:27:59.793463Z",
     "iopub.status.busy": "2021-10-16T06:27:59.792785Z",
     "iopub.status.idle": "2021-10-16T06:27:59.795113Z",
     "shell.execute_reply": "2021-10-16T06:27:59.795618Z",
     "shell.execute_reply.started": "2021-10-16T05:16:12.923827Z"
    },
    "papermill": {
     "duration": 0.043498,
     "end_time": "2021-10-16T06:27:59.795750",
     "exception": false,
     "start_time": "2021-10-16T06:27:59.752252",
     "status": "completed"
    },
    "tags": []
   },
   "outputs": [],
   "source": [
    "# model_unaltered = BasicClassifier(10)\n",
    "# model_unaltered.to(device)\n",
    "# criterion = nn.CrossEntropyLoss()\n",
    "# optimizer = optim.Adam(model_unaltered.parameters(),lr=3e-5)"
   ]
  },
  {
   "cell_type": "code",
   "execution_count": 10,
   "id": "def94a0c",
   "metadata": {
    "execution": {
     "iopub.execute_input": "2021-10-16T06:27:59.876707Z",
     "iopub.status.busy": "2021-10-16T06:27:59.875148Z",
     "iopub.status.idle": "2021-10-16T06:27:59.879266Z",
     "shell.execute_reply": "2021-10-16T06:27:59.878841Z",
     "shell.execute_reply.started": "2021-10-16T05:16:12.931296Z"
    },
    "papermill": {
     "duration": 0.045965,
     "end_time": "2021-10-16T06:27:59.879402",
     "exception": false,
     "start_time": "2021-10-16T06:27:59.833437",
     "status": "completed"
    },
    "tags": []
   },
   "outputs": [],
   "source": [
    "widgets = [\n",
    "    ' [', progressbar.Timer(), '] ',\n",
    "    progressbar.Percentage(), ' ',\n",
    "    progressbar.Bar(),\n",
    "    ' (', progressbar.ETA(), ') ',\n",
    "]"
   ]
  },
  {
   "cell_type": "markdown",
   "id": "77878b5b",
   "metadata": {
    "papermill": {
     "duration": 0.037971,
     "end_time": "2021-10-16T06:27:59.955055",
     "exception": false,
     "start_time": "2021-10-16T06:27:59.917084",
     "status": "completed"
    },
    "tags": []
   },
   "source": [
    "## Train model_unaltered on Unaltered Data"
   ]
  },
  {
   "cell_type": "code",
   "execution_count": 11,
   "id": "d5f3610d",
   "metadata": {
    "_kg_hide-output": true,
    "execution": {
     "iopub.execute_input": "2021-10-16T06:28:00.034823Z",
     "iopub.status.busy": "2021-10-16T06:28:00.034039Z",
     "iopub.status.idle": "2021-10-16T06:28:00.036135Z",
     "shell.execute_reply": "2021-10-16T06:28:00.036559Z",
     "shell.execute_reply.started": "2021-10-16T05:16:12.942723Z"
    },
    "papermill": {
     "duration": 0.043838,
     "end_time": "2021-10-16T06:28:00.036684",
     "exception": false,
     "start_time": "2021-10-16T06:27:59.992846",
     "status": "completed"
    },
    "tags": []
   },
   "outputs": [],
   "source": [
    "# training\n",
    "# find best number of epochs\n",
    "# NUM_EPOCHS = 20\n",
    "# epoch_metrics = {}\n",
    "# bar = progressbar.ProgressBar(NUM_EPOCHS*len(train_loader),widgets=widgets).start()\n",
    "# for epoch in range(NUM_EPOCHS):\n",
    "#     metric.reset_confusion_matrix(10)\n",
    "#     for i, (inputs, labels) in enumerate(train_loader):\n",
    "#         optimizer.zero_grad()\n",
    "#         outputs = model_unaltered(inputs.to(device))\n",
    "#         loss = criterion(outputs, labels.to(device))\n",
    "#         loss.backward()\n",
    "#         optimizer.step()\n",
    "#         # statistics\n",
    "#         metric.update_confusion_matrix(outputs.to('cpu'),labels)\n",
    "#         # progressbar\n",
    "#         bar.update(epoch*len(train_loader)+i)\n",
    "#     epoch_metrics[epoch] = metric.classification_metrics()"
   ]
  },
  {
   "cell_type": "code",
   "execution_count": 12,
   "id": "a60d6806",
   "metadata": {
    "execution": {
     "iopub.execute_input": "2021-10-16T06:28:00.116512Z",
     "iopub.status.busy": "2021-10-16T06:28:00.115704Z",
     "iopub.status.idle": "2021-10-16T06:28:00.117754Z",
     "shell.execute_reply": "2021-10-16T06:28:00.118166Z",
     "shell.execute_reply.started": "2021-10-16T05:16:12.954022Z"
    },
    "papermill": {
     "duration": 0.043484,
     "end_time": "2021-10-16T06:28:00.118289",
     "exception": false,
     "start_time": "2021-10-16T06:28:00.074805",
     "status": "completed"
    },
    "tags": []
   },
   "outputs": [],
   "source": [
    "# leg = ['accuracy','precision','recall']\n",
    "# sns.lineplot(x=list(epoch_metrics.keys()),y=np.array(list(epoch_metrics.values()),dtype=float)[:,0],) # accuracy\n",
    "# sns.lineplot(x=list(epoch_metrics.keys()),y=np.array(list(epoch_metrics.values()),dtype=float)[:,1]) # precision\n",
    "# sns.lineplot(x=list(epoch_metrics.keys()),y=np.array(list(epoch_metrics.values()),dtype=float)[:,2]) # recall\n",
    "# plt.legend(leg)\n",
    "# plt.xlabel('epoch')\n",
    "# plt.title('Training Unaltered Model on Unaltered Data')\n",
    "# plt.show()"
   ]
  },
  {
   "cell_type": "markdown",
   "id": "ff625b00",
   "metadata": {
    "papermill": {
     "duration": 0.037751,
     "end_time": "2021-10-16T06:28:00.194298",
     "exception": false,
     "start_time": "2021-10-16T06:28:00.156547",
     "status": "completed"
    },
    "tags": []
   },
   "source": [
    "## Test model_unaltered on Unaltered Data"
   ]
  },
  {
   "cell_type": "code",
   "execution_count": 13,
   "id": "e87bb147",
   "metadata": {
    "execution": {
     "iopub.execute_input": "2021-10-16T06:28:00.275807Z",
     "iopub.status.busy": "2021-10-16T06:28:00.275074Z",
     "iopub.status.idle": "2021-10-16T06:28:00.277217Z",
     "shell.execute_reply": "2021-10-16T06:28:00.277641Z",
     "shell.execute_reply.started": "2021-10-16T05:16:12.967264Z"
    },
    "papermill": {
     "duration": 0.043594,
     "end_time": "2021-10-16T06:28:00.277763",
     "exception": false,
     "start_time": "2021-10-16T06:28:00.234169",
     "status": "completed"
    },
    "tags": []
   },
   "outputs": [],
   "source": [
    "# testing\n",
    "# metric.reset_confusion_matrix(10)\n",
    "# bar = progressbar.ProgressBar(len(test_loader),widgets=widgets).start()\n",
    "# with torch.no_grad():\n",
    "#     running_loss = 0.0\n",
    "#     for i, (inputs, labels) in enumerate(test_loader):\n",
    "#         outputs = model_unaltered(inputs.to(device))\n",
    "#         # statistics\n",
    "#         metric.update_confusion_matrix(outputs.to('cpu'),labels)\n",
    "#         # progressbar\n",
    "#         bar.update(i)\n",
    "# m = metric.get_confusion_matrix(norm=True)\n",
    "# sns.heatmap(m,square=True,cmap='Greys')\n",
    "# plt.title('Testing Unaltered Model on Unaltered Data')\n",
    "# plt.show()\n",
    "# metric.classification_metrics(print_=True)"
   ]
  },
  {
   "cell_type": "markdown",
   "id": "f602e460",
   "metadata": {
    "papermill": {
     "duration": 0.037269,
     "end_time": "2021-10-16T06:28:00.352296",
     "exception": false,
     "start_time": "2021-10-16T06:28:00.315027",
     "status": "completed"
    },
    "tags": []
   },
   "source": [
    "## Test model_unaltered on Lossy Data"
   ]
  },
  {
   "cell_type": "markdown",
   "id": "61d4ca8c",
   "metadata": {
    "papermill": {
     "duration": 0.037241,
     "end_time": "2021-10-16T06:28:00.427670",
     "exception": false,
     "start_time": "2021-10-16T06:28:00.390429",
     "status": "completed"
    },
    "tags": []
   },
   "source": [
    "### DataLoss::random_per_img()"
   ]
  },
  {
   "cell_type": "code",
   "execution_count": 14,
   "id": "fda4f9f3",
   "metadata": {
    "execution": {
     "iopub.execute_input": "2021-10-16T06:28:00.506853Z",
     "iopub.status.busy": "2021-10-16T06:28:00.506056Z",
     "iopub.status.idle": "2021-10-16T06:28:00.508460Z",
     "shell.execute_reply": "2021-10-16T06:28:00.508025Z",
     "shell.execute_reply.started": "2021-10-16T05:16:12.987567Z"
    },
    "papermill": {
     "duration": 0.043586,
     "end_time": "2021-10-16T06:28:00.508562",
     "exception": false,
     "start_time": "2021-10-16T06:28:00.464976",
     "status": "completed"
    },
    "tags": []
   },
   "outputs": [],
   "source": [
    "# loss_stats = {}\n",
    "# percents = [x/10.0 for x in range(0,10)] + [0.95] # input parameters to DataLoss::random_per_img()\n",
    "# bar = progressbar.ProgressBar(len(percents),widgets=widgets).start()\n",
    "# for cc, ppp in enumerate(percents):\n",
    "#     metric.reset_confusion_matrix(10)\n",
    "#     with torch.no_grad():\n",
    "#         running_loss = 0.0\n",
    "#         for i, (inputs, labels) in enumerate(test_loader):\n",
    "#             outputs = model_unaltered(dloss.random_per_img(inputs,ppp).to(device)) # apply data loss\n",
    "#             # statistics\n",
    "#             metric.update_confusion_matrix(outputs.to('cpu'),labels)\n",
    "#             # progressbar\n",
    "#     bar.update(cc)\n",
    "#     loss_stats[ppp] = metric.classification_metrics()\n",
    "\n",
    "# leg = ['accuracy','precision','recall']\n",
    "# sns.lineplot(x=list(loss_stats.keys()),y=np.array(list(loss_stats.values()),dtype=float)[:,0],) # accuracy\n",
    "# sns.lineplot(x=list(loss_stats.keys()),y=np.array(list(loss_stats.values()),dtype=float)[:,1]) # precision\n",
    "# sns.lineplot(x=list(loss_stats.keys()),y=np.array(list(loss_stats.values()),dtype=float)[:,2]) # recall\n",
    "# plt.legend(leg)\n",
    "# plt.xlabel('% loss')\n",
    "# plt.title('Testing Unaltered Model on Lossy Data(Proportion of Pixels per Image)')\n",
    "# plt.show()"
   ]
  },
  {
   "cell_type": "markdown",
   "id": "f1475329",
   "metadata": {
    "papermill": {
     "duration": 0.037109,
     "end_time": "2021-10-16T06:28:00.583836",
     "exception": false,
     "start_time": "2021-10-16T06:28:00.546727",
     "status": "completed"
    },
    "tags": []
   },
   "source": [
    "# Feature Map\n",
    "https://androidkt.com/how-to-visualize-feature-maps-in-convolutional-neural-networks-using-pytorch/"
   ]
  },
  {
   "cell_type": "markdown",
   "id": "0b657589",
   "metadata": {
    "papermill": {
     "duration": 0.039266,
     "end_time": "2021-10-16T06:28:00.661964",
     "exception": false,
     "start_time": "2021-10-16T06:28:00.622698",
     "status": "completed"
    },
    "tags": []
   },
   "source": [
    "## Feature Map without DataLoss"
   ]
  },
  {
   "cell_type": "code",
   "execution_count": 15,
   "id": "fe0ceb46",
   "metadata": {
    "execution": {
     "iopub.execute_input": "2021-10-16T06:28:00.742038Z",
     "iopub.status.busy": "2021-10-16T06:28:00.741306Z",
     "iopub.status.idle": "2021-10-16T06:28:00.743877Z",
     "shell.execute_reply": "2021-10-16T06:28:00.743458Z",
     "shell.execute_reply.started": "2021-10-16T05:16:12.998221Z"
    },
    "papermill": {
     "duration": 0.043766,
     "end_time": "2021-10-16T06:28:00.743989",
     "exception": false,
     "start_time": "2021-10-16T06:28:00.700223",
     "status": "completed"
    },
    "tags": []
   },
   "outputs": [],
   "source": [
    "# (inputs,labels) = next(iter(test_loader))\n",
    "# res_full = metric.feature_map(inputs[0:1],model,print_=True)\n",
    "# print(model(inputs[0:1].to(device)).to('cpu').argmax())"
   ]
  },
  {
   "cell_type": "markdown",
   "id": "079606ae",
   "metadata": {
    "papermill": {
     "duration": 0.037915,
     "end_time": "2021-10-16T06:28:00.820245",
     "exception": false,
     "start_time": "2021-10-16T06:28:00.782330",
     "status": "completed"
    },
    "tags": []
   },
   "source": [
    "## Feature Map with DataLoss"
   ]
  },
  {
   "cell_type": "code",
   "execution_count": 16,
   "id": "33e4a755",
   "metadata": {
    "execution": {
     "iopub.execute_input": "2021-10-16T06:28:00.901412Z",
     "iopub.status.busy": "2021-10-16T06:28:00.900198Z",
     "iopub.status.idle": "2021-10-16T06:28:00.904119Z",
     "shell.execute_reply": "2021-10-16T06:28:00.903720Z",
     "shell.execute_reply.started": "2021-10-16T05:16:13.009514Z"
    },
    "papermill": {
     "duration": 0.04596,
     "end_time": "2021-10-16T06:28:00.904224",
     "exception": false,
     "start_time": "2021-10-16T06:28:00.858264",
     "status": "completed"
    },
    "tags": []
   },
   "outputs": [],
   "source": [
    "# (inputs,labels) = next(iter(test_loader))\n",
    "# loss_inputs = dloss.random_per_img(inputs[0:1],.75)\n",
    "# res_dloss = metric.feature_map(loss_inputs,model,print_=True)\n",
    "# print(model(loss_inputs.to(device)).to('cpu').argmax())"
   ]
  },
  {
   "cell_type": "markdown",
   "id": "eb9ce09b",
   "metadata": {
    "papermill": {
     "duration": 0.037668,
     "end_time": "2021-10-16T06:28:00.979447",
     "exception": false,
     "start_time": "2021-10-16T06:28:00.941779",
     "status": "completed"
    },
    "tags": []
   },
   "source": [
    "# Model Trained on Lossy Data"
   ]
  },
  {
   "cell_type": "code",
   "execution_count": 17,
   "id": "8dadfb67",
   "metadata": {
    "execution": {
     "iopub.execute_input": "2021-10-16T06:28:01.058812Z",
     "iopub.status.busy": "2021-10-16T06:28:01.058022Z",
     "iopub.status.idle": "2021-10-16T06:28:01.060502Z",
     "shell.execute_reply": "2021-10-16T06:28:01.060078Z",
     "shell.execute_reply.started": "2021-10-16T05:16:13.021850Z"
    },
    "papermill": {
     "duration": 0.043422,
     "end_time": "2021-10-16T06:28:01.060615",
     "exception": false,
     "start_time": "2021-10-16T06:28:01.017193",
     "status": "completed"
    },
    "tags": []
   },
   "outputs": [],
   "source": [
    "# model_lossy_1 = BasicClassifier(10)\n",
    "# model_lossy_1.to(device)\n",
    "# criterion = nn.CrossEntropyLoss()\n",
    "# optimizer = optim.Adam(model_lossy_1.parameters(),lr=3e-5)"
   ]
  },
  {
   "cell_type": "markdown",
   "id": "fe169e96",
   "metadata": {
    "papermill": {
     "duration": 0.037181,
     "end_time": "2021-10-16T06:28:01.135774",
     "exception": false,
     "start_time": "2021-10-16T06:28:01.098593",
     "status": "completed"
    },
    "tags": []
   },
   "source": [
    "## Train model_lossy_1 on Lossy Data : loss = 50%"
   ]
  },
  {
   "cell_type": "code",
   "execution_count": 18,
   "id": "05f44710",
   "metadata": {
    "execution": {
     "iopub.execute_input": "2021-10-16T06:28:01.216219Z",
     "iopub.status.busy": "2021-10-16T06:28:01.215435Z",
     "iopub.status.idle": "2021-10-16T06:28:01.217383Z",
     "shell.execute_reply": "2021-10-16T06:28:01.217815Z",
     "shell.execute_reply.started": "2021-10-16T05:16:13.033409Z"
    },
    "papermill": {
     "duration": 0.04436,
     "end_time": "2021-10-16T06:28:01.217942",
     "exception": false,
     "start_time": "2021-10-16T06:28:01.173582",
     "status": "completed"
    },
    "tags": []
   },
   "outputs": [],
   "source": [
    "# training\n",
    "# find best number of epochs\n",
    "# NUM_EPOCHS = 20\n",
    "# epoch_metrics = {}\n",
    "# ppp = 0.5 # could also make ppp a function of the epoch number\n",
    "# bar = progressbar.ProgressBar(NUM_EPOCHS*len(train_loader),widgets=widgets).start()\n",
    "# for epoch in range(NUM_EPOCHS):\n",
    "#     running_loss = 0.0\n",
    "#     for i, (inputs, labels) in enumerate(train_loader):\n",
    "#         optimizer.zero_grad()\n",
    "#         outputs = model_lossy_1(dloss.random_per_img(inputs,ppp).to(device))\n",
    "#         loss = criterion(outputs, labels.to(device))\n",
    "#         loss.backward()\n",
    "#         optimizer.step()\n",
    "#         # statistics\n",
    "#         metric.update_confusion_matrix(outputs.to('cpu'),labels)\n",
    "#         # progressbar\n",
    "#         bar.update(epoch*len(train_loader)+i)\n",
    "#     epoch_metrics[epoch] = metric.classification_metrics()"
   ]
  },
  {
   "cell_type": "code",
   "execution_count": 19,
   "id": "cb87f8ec",
   "metadata": {
    "execution": {
     "iopub.execute_input": "2021-10-16T06:28:01.297533Z",
     "iopub.status.busy": "2021-10-16T06:28:01.296944Z",
     "iopub.status.idle": "2021-10-16T06:28:01.299165Z",
     "shell.execute_reply": "2021-10-16T06:28:01.299678Z",
     "shell.execute_reply.started": "2021-10-16T05:16:13.043583Z"
    },
    "papermill": {
     "duration": 0.043409,
     "end_time": "2021-10-16T06:28:01.299805",
     "exception": false,
     "start_time": "2021-10-16T06:28:01.256396",
     "status": "completed"
    },
    "tags": []
   },
   "outputs": [],
   "source": [
    "# leg = ['accuracy','precision','recall']\n",
    "# sns.lineplot(x=list(epoch_metrics.keys()),y=np.array(list(epoch_metrics.values()),dtype=float)[:,0],) # accuracy\n",
    "# sns.lineplot(x=list(epoch_metrics.keys()),y=np.array(list(epoch_metrics.values()),dtype=float)[:,1]) # precision\n",
    "# sns.lineplot(x=list(epoch_metrics.keys()),y=np.array(list(epoch_metrics.values()),dtype=float)[:,2]) # recall\n",
    "# plt.legend(leg)\n",
    "# plt.xlabel('epoch')\n",
    "# plt.title('Training Lossy Model on Lossy Data(Proportion of Pixels per Image)')\n",
    "# plt.show()"
   ]
  },
  {
   "cell_type": "markdown",
   "id": "46a08a85",
   "metadata": {
    "papermill": {
     "duration": 0.038427,
     "end_time": "2021-10-16T06:28:01.378016",
     "exception": false,
     "start_time": "2021-10-16T06:28:01.339589",
     "status": "completed"
    },
    "tags": []
   },
   "source": [
    "## Test model_lossy_1 on Unaltered Data"
   ]
  },
  {
   "cell_type": "code",
   "execution_count": 20,
   "id": "99a5702f",
   "metadata": {
    "execution": {
     "iopub.execute_input": "2021-10-16T06:28:01.457915Z",
     "iopub.status.busy": "2021-10-16T06:28:01.457168Z",
     "iopub.status.idle": "2021-10-16T06:28:01.459065Z",
     "shell.execute_reply": "2021-10-16T06:28:01.459444Z",
     "shell.execute_reply.started": "2021-10-16T05:16:13.060682Z"
    },
    "papermill": {
     "duration": 0.043274,
     "end_time": "2021-10-16T06:28:01.459564",
     "exception": false,
     "start_time": "2021-10-16T06:28:01.416290",
     "status": "completed"
    },
    "tags": []
   },
   "outputs": [],
   "source": [
    "# metric.reset_confusion_matrix(10)\n",
    "# bar = progressbar.ProgressBar(len(test_loader),widgets=widgets).start()\n",
    "# with torch.no_grad():\n",
    "#     for i, (inputs, labels) in enumerate(test_loader):\n",
    "#         outputs = model_lossy_1(inputs.to(device))\n",
    "#         # statistics\n",
    "#         metric.update_confusion_matrix(outputs.to('cpu'),labels)\n",
    "#         # progressbar\n",
    "#         bar.update(i)\n",
    "# m = metric.get_confusion_matrix(norm=True)\n",
    "# sns.heatmap(m,square=True,cmap='Greys')\n",
    "# plt.title('Testing Lossy Model on Unaltered Data')\n",
    "# plt.show()\n",
    "# metric.classification_metrics(print_=True)"
   ]
  },
  {
   "cell_type": "markdown",
   "id": "487f492a",
   "metadata": {
    "papermill": {
     "duration": 0.037816,
     "end_time": "2021-10-16T06:28:01.534857",
     "exception": false,
     "start_time": "2021-10-16T06:28:01.497041",
     "status": "completed"
    },
    "tags": []
   },
   "source": [
    "## Test model_lossy_1 on Lossy Data"
   ]
  },
  {
   "cell_type": "code",
   "execution_count": 21,
   "id": "1d3e74d1",
   "metadata": {
    "execution": {
     "iopub.execute_input": "2021-10-16T06:28:01.613913Z",
     "iopub.status.busy": "2021-10-16T06:28:01.613130Z",
     "iopub.status.idle": "2021-10-16T06:28:01.615062Z",
     "shell.execute_reply": "2021-10-16T06:28:01.615508Z",
     "shell.execute_reply.started": "2021-10-16T05:16:13.071746Z"
    },
    "papermill": {
     "duration": 0.043335,
     "end_time": "2021-10-16T06:28:01.615623",
     "exception": false,
     "start_time": "2021-10-16T06:28:01.572288",
     "status": "completed"
    },
    "tags": []
   },
   "outputs": [],
   "source": [
    "# loss_stats = {}\n",
    "# percents = [x/10.0 for x in range(10)] + [0.95,0.99] # input parameters to DataLoss::random_ppp()\n",
    "# bar = progressbar.ProgressBar(len(percents),widgets=widgets).start()\n",
    "# for cc, ppp in enumerate(percents):\n",
    "#     metric.reset_confusion_matrix(10)\n",
    "#     with torch.no_grad():\n",
    "#         running_loss = 0.0\n",
    "#         for i, (inputs, labels) in enumerate(test_loader):\n",
    "#             outputs = model_lossy_1(dloss.random_per_img(inputs,ppp).to(device)) # apply data loss\n",
    "#             # statistics\n",
    "#             metric.update_confusion_matrix(outputs.to('cpu'),labels)\n",
    "#             # progressbar\n",
    "#     bar.update(cc)\n",
    "#     loss_stats[ppp] = metric.classification_metrics()\n",
    "\n",
    "# leg = ['accuracy','precision','recall']\n",
    "# sns.lineplot(x=list(loss_stats.keys()),y=np.array(list(loss_stats.values()),dtype=float)[:,0],) # accuracy\n",
    "# sns.lineplot(x=list(loss_stats.keys()),y=np.array(list(loss_stats.values()),dtype=float)[:,1]) # precision\n",
    "# sns.lineplot(x=list(loss_stats.keys()),y=np.array(list(loss_stats.values()),dtype=float)[:,2]) # recall\n",
    "# plt.legend(leg)\n",
    "# plt.xlabel('% loss')\n",
    "# plt.title('Testing Lossy Model on Lossy Data(Proportion of Pixels per Image)')\n",
    "# plt.show()"
   ]
  },
  {
   "cell_type": "markdown",
   "id": "c91fa001",
   "metadata": {
    "papermill": {
     "duration": 0.036904,
     "end_time": "2021-10-16T06:28:01.689650",
     "exception": false,
     "start_time": "2021-10-16T06:28:01.652746",
     "status": "completed"
    },
    "tags": []
   },
   "source": [
    "# Model Biases"
   ]
  },
  {
   "cell_type": "code",
   "execution_count": 22,
   "id": "bfc89c77",
   "metadata": {
    "execution": {
     "iopub.execute_input": "2021-10-16T06:28:01.768648Z",
     "iopub.status.busy": "2021-10-16T06:28:01.767884Z",
     "iopub.status.idle": "2021-10-16T06:28:01.770266Z",
     "shell.execute_reply": "2021-10-16T06:28:01.769835Z",
     "shell.execute_reply.started": "2021-10-16T05:16:13.082478Z"
    },
    "papermill": {
     "duration": 0.043453,
     "end_time": "2021-10-16T06:28:01.770380",
     "exception": false,
     "start_time": "2021-10-16T06:28:01.726927",
     "status": "completed"
    },
    "tags": []
   },
   "outputs": [],
   "source": [
    "# class_frequency = {x:0 for x in range(10)}\n",
    "# freq_pop = 10000\n",
    "# inputs = torch.Tensor(np.random.rand(freq_pop,1,28,28)).to(device)\n",
    "# outputs = model_unaltered(inputs)\n",
    "# print(\"mean:\",outputs.argmax(1).to('cpu').numpy().mean())\n",
    "# print(\"std:\",outputs.argmax(1).to('cpu').numpy().std())\n",
    "# print(\"var:\",outputs.argmax(1).to('cpu').numpy().var())"
   ]
  },
  {
   "cell_type": "code",
   "execution_count": 23,
   "id": "f2b319ac",
   "metadata": {
    "execution": {
     "iopub.execute_input": "2021-10-16T06:28:01.848938Z",
     "iopub.status.busy": "2021-10-16T06:28:01.848197Z",
     "iopub.status.idle": "2021-10-16T06:28:01.850552Z",
     "shell.execute_reply": "2021-10-16T06:28:01.850124Z",
     "shell.execute_reply.started": "2021-10-16T05:16:13.094580Z"
    },
    "papermill": {
     "duration": 0.043118,
     "end_time": "2021-10-16T06:28:01.850652",
     "exception": false,
     "start_time": "2021-10-16T06:28:01.807534",
     "status": "completed"
    },
    "tags": []
   },
   "outputs": [],
   "source": [
    "# class_frequency = {x:0 for x in range(10)}\n",
    "# freq_pop = 10000\n",
    "# inputs = torch.Tensor(np.random.rand(freq_pop,1,28,28)).to(device)\n",
    "# outputs = model_lossy_1(inputs)\n",
    "# print(\"mean:\",outputs.argmax(1).to('cpu').numpy().mean())\n",
    "# print(\"std:\",outputs.argmax(1).to('cpu').numpy().std())\n",
    "# print(\"var:\",outputs.argmax(1).to('cpu').numpy().var())"
   ]
  },
  {
   "cell_type": "markdown",
   "id": "a1f6a1c5",
   "metadata": {
    "papermill": {
     "duration": 0.037676,
     "end_time": "2021-10-16T06:28:01.925589",
     "exception": false,
     "start_time": "2021-10-16T06:28:01.887913",
     "status": "completed"
    },
    "tags": []
   },
   "source": [
    "# Creating Model for Each Function"
   ]
  },
  {
   "cell_type": "code",
   "execution_count": 24,
   "id": "6a39267c",
   "metadata": {
    "execution": {
     "iopub.execute_input": "2021-10-16T06:28:02.010038Z",
     "iopub.status.busy": "2021-10-16T06:28:02.005760Z",
     "iopub.status.idle": "2021-10-16T06:31:30.095435Z",
     "shell.execute_reply": "2021-10-16T06:31:30.095875Z",
     "shell.execute_reply.started": "2021-10-16T05:16:13.105902Z"
    },
    "papermill": {
     "duration": 208.132587,
     "end_time": "2021-10-16T06:31:30.096056",
     "exception": false,
     "start_time": "2021-10-16T06:28:01.963469",
     "status": "completed"
    },
    "tags": []
   },
   "outputs": [
    {
     "name": "stderr",
     "output_type": "stream",
     "text": [
      " [Elapsed Time: 0:03:21]  99% |############################# | (ETA:  0:00:01) \r"
     ]
    }
   ],
   "source": [
    "model_metrics = []\n",
    "model_list = []\n",
    "model_unaltered = BasicClassifier(10)\n",
    "model_unaltered.to(device)\n",
    "criterion = nn.CrossEntropyLoss()\n",
    "optimizer = optim.Adam(model_unaltered.parameters(),lr=3e-5)\n",
    "metrics = train(model_unaltered,train_loader,getattr(dloss, 'unaltered'),0.0,optimizer,criterion)\n",
    "model_metrics.append(('Unaltered',metrics))\n",
    "model_list.append(('Unaltered',model_unaltered))"
   ]
  },
  {
   "cell_type": "code",
   "execution_count": 25,
   "id": "84629418",
   "metadata": {
    "execution": {
     "iopub.execute_input": "2021-10-16T06:31:30.274018Z",
     "iopub.status.busy": "2021-10-16T06:31:30.273247Z",
     "iopub.status.idle": "2021-10-16T06:45:30.455936Z",
     "shell.execute_reply": "2021-10-16T06:45:30.456300Z",
     "shell.execute_reply.started": "2021-10-16T05:20:39.589043Z"
    },
    "papermill": {
     "duration": 840.274879,
     "end_time": "2021-10-16T06:45:30.456507",
     "exception": false,
     "start_time": "2021-10-16T06:31:30.181628",
     "status": "completed"
    },
    "tags": []
   },
   "outputs": [
    {
     "name": "stderr",
     "output_type": "stream",
     "text": [
      " [Elapsed Time: 0:14:00]  75% |######################        | (ETA:  0:04:40) \r"
     ]
    }
   ],
   "source": [
    "func_list = [('Random',getattr(dloss, 'random_per_img')),('Row',getattr(dloss, 'rows_per_img')),('Column',getattr(dloss, 'columns_per_img')),('Row and Column',getattr(dloss, 'rowcol_per_img'))]\n",
    "\n",
    "proportion = 0.5\n",
    "bar = progressbar.ProgressBar(len(func_list),widgets=widgets).start()\n",
    "for cc, (name,func) in enumerate(func_list):\n",
    "    model = BasicClassifier(10)\n",
    "    model.to(device)\n",
    "    criterion = nn.CrossEntropyLoss()\n",
    "    optimizer = optim.Adam(model.parameters(),lr=3e-5)\n",
    "    metrics = train(model,train_loader,func,proportion,optimizer,criterion)\n",
    "    model_metrics.append((name,metrics))\n",
    "    model_list.append((name,model))\n",
    "    bar.update(cc)"
   ]
  },
  {
   "cell_type": "code",
   "execution_count": 26,
   "id": "484264b5",
   "metadata": {
    "execution": {
     "iopub.execute_input": "2021-10-16T06:45:31.041373Z",
     "iopub.status.busy": "2021-10-16T06:45:31.040599Z",
     "iopub.status.idle": "2021-10-16T06:45:32.150017Z",
     "shell.execute_reply": "2021-10-16T06:45:32.150401Z",
     "shell.execute_reply.started": "2021-10-16T06:24:19.744596Z"
    },
    "papermill": {
     "duration": 1.408816,
     "end_time": "2021-10-16T06:45:32.150549",
     "exception": false,
     "start_time": "2021-10-16T06:45:30.741733",
     "status": "completed"
    },
    "tags": []
   },
   "outputs": [
    {
     "data": {
      "image/png": "[encoded data removed]",
      "text/plain": [
       "<Figure size 2160x360 with 5 Axes>"
      ]
     },
     "metadata": {
      "needs_background": "light"
     },
     "output_type": "display_data"
    }
   ],
   "source": [
    "fig, axarr = plt.subplots(1,len(model_metrics),figsize=(30,5))\n",
    "for i, (name,metrics) in enumerate(model_metrics):\n",
    "        plt.sca(axarr[i])\n",
    "        display_training_metrics(name,metrics)\n",
    "leg = ['precision','recall','accuracy']\n",
    "plt.legend(leg)\n",
    "plt.suptitle('Training')\n",
    "plt.show()"
   ]
  },
  {
   "cell_type": "markdown",
   "id": "27679734",
   "metadata": {
    "papermill": {
     "duration": 0.287922,
     "end_time": "2021-10-16T06:45:32.753157",
     "exception": false,
     "start_time": "2021-10-16T06:45:32.465235",
     "status": "completed"
    },
    "tags": []
   },
   "source": [
    "# Cross Table Of Data Loss Models Tested on each others Data sets"
   ]
  },
  {
   "cell_type": "code",
   "execution_count": 27,
   "id": "cc14a721",
   "metadata": {
    "execution": {
     "iopub.execute_input": "2021-10-16T06:45:33.350952Z",
     "iopub.status.busy": "2021-10-16T06:45:33.350177Z",
     "iopub.status.idle": "2021-10-16T06:47:59.590726Z",
     "shell.execute_reply": "2021-10-16T06:47:59.591100Z",
     "shell.execute_reply.started": "2021-10-16T05:38:36.315624Z"
    },
    "papermill": {
     "duration": 146.539081,
     "end_time": "2021-10-16T06:47:59.591265",
     "exception": false,
     "start_time": "2021-10-16T06:45:33.052184",
     "status": "completed"
    },
    "tags": []
   },
   "outputs": [
    {
     "name": "stderr",
     "output_type": "stream",
     "text": [
      "/opt/conda/lib/python3.7/site-packages/ipykernel_launcher.py:40: RuntimeWarning: invalid value encountered in true_divide\n",
      " [Elapsed Time: 0:02:26]  97% |############################# | (ETA:  0:00:03) \r"
     ]
    }
   ],
   "source": [
    "# model_list = [('Unaltered',model_1),('Random Per Image',model_2)]#,('Checkered',None),('Column',None),('Row',None)] # list of all the trained models\n",
    "# func_list = [('Unaltered',getattr(dloss, 'unaltered')),('Random Per Image',getattr(dloss, 'random_per_img'))]\n",
    "percents = [x/10.0 for x in range(11)] # input parameters to DataLoss\n",
    "crosstab = {name:{func_name:{percent:[] for percent in percents} for (func_name,_) in func_list} for (name,_) in model_list} # each model has a metric for each \n",
    "\n",
    "# testing loop\n",
    "\n",
    "bar = progressbar.ProgressBar(len(func_list)*len(percents),widgets=widgets).start()\n",
    "for cc,(func_name,func) in enumerate(func_list): # number of data loss functions including unaltered\n",
    "    for pl, ppp in enumerate(percents):\n",
    "\n",
    "        for (name,model) in model_list:\n",
    "            model.metric.reset_confusion_matrix(10)\n",
    "\n",
    "        with torch.no_grad():\n",
    "            for i, (inputs, labels) in enumerate(test_loader):\n",
    "                inputs = func(inputs=inputs,ppp=ppp)\n",
    "                for (model_name,model) in model_list:\n",
    "                    outputs = model(inputs.to(device))\n",
    "                    # statistics\n",
    "                    model.metric.update_confusion_matrix(outputs.to('cpu'),labels)\n",
    "                    # progressbar\n",
    "            for (model_name,model) in model_list:\n",
    "                crosstab[model_name][func_name][ppp] = model.metric.classification_metrics()\n",
    "            bar.update(cc*len(percents) + pl)"
   ]
  },
  {
   "cell_type": "code",
   "execution_count": 28,
   "id": "480c8e99",
   "metadata": {
    "execution": {
     "iopub.execute_input": "2021-10-16T06:48:00.187883Z",
     "iopub.status.busy": "2021-10-16T06:48:00.187170Z",
     "iopub.status.idle": "2021-10-16T06:48:00.189957Z",
     "shell.execute_reply": "2021-10-16T06:48:00.190386Z",
     "shell.execute_reply.started": "2021-10-16T05:41:34.411055Z"
    },
    "papermill": {
     "duration": 0.303323,
     "end_time": "2021-10-16T06:48:00.190548",
     "exception": false,
     "start_time": "2021-10-16T06:47:59.887225",
     "status": "completed"
    },
    "tags": []
   },
   "outputs": [
    {
     "data": {
      "text/plain": [
       "dict_keys(['Unaltered', 'Random', 'Row', 'Column', 'Row and Column'])"
      ]
     },
     "execution_count": 28,
     "metadata": {},
     "output_type": "execute_result"
    }
   ],
   "source": [
    "crosstab.keys()"
   ]
  },
  {
   "cell_type": "code",
   "execution_count": 29,
   "id": "07723d79",
   "metadata": {
    "execution": {
     "iopub.execute_input": "2021-10-16T06:48:00.826242Z",
     "iopub.status.busy": "2021-10-16T06:48:00.815947Z",
     "iopub.status.idle": "2021-10-16T06:48:04.248193Z",
     "shell.execute_reply": "2021-10-16T06:48:04.248628Z",
     "shell.execute_reply.started": "2021-10-16T05:41:34.422237Z"
    },
    "papermill": {
     "duration": 3.752951,
     "end_time": "2021-10-16T06:48:04.248777",
     "exception": false,
     "start_time": "2021-10-16T06:48:00.495826",
     "status": "completed"
    },
    "tags": []
   },
   "outputs": [
    {
     "data": {
      "text/plain": [
       "<matplotlib.legend.Legend at 0x7f619e550610>"
      ]
     },
     "execution_count": 29,
     "metadata": {},
     "output_type": "execute_result"
    },
    {
     "data": {
      "image/png": "[encoded data removed]",
      "text/plain": [
       "<Figure size 2160x1800 with 20 Axes>"
      ]
     },
     "metadata": {
      "needs_background": "light"
     },
     "output_type": "display_data"
    }
   ],
   "source": [
    "\n",
    "fig, axarr = plt.subplots(len(crosstab.keys()), len(crosstab[list(crosstab.keys())[0]].keys()),figsize=(30,25))\n",
    "for i, model in enumerate(crosstab.keys()):\n",
    "    for j, func in enumerate(crosstab[model].keys()):\n",
    "        plt.sca(axarr[i, j])\n",
    "        display_testing_metrics(\"{} on set {}\".format(model,func),crosstab[model][func])\n",
    "leg = ['precision','recall','accuracy']\n",
    "plt.legend(leg)\n",
    "#     plt.setp(axarr[0, i], xlabel=model)\n",
    "#     plt.setp(axarr[i, 0], ylabel=model)\n"
   ]
  },
  {
   "cell_type": "code",
   "execution_count": null,
   "id": "ed8a9205",
   "metadata": {
    "papermill": {
     "duration": 0.518108,
     "end_time": "2021-10-16T06:48:05.213884",
     "exception": false,
     "start_time": "2021-10-16T06:48:04.695776",
     "status": "completed"
    },
    "tags": []
   },
   "outputs": [],
   "source": []
  }
 ],
 "metadata": {
  "kernelspec": {
   "display_name": "Python 3",
   "language": "python",
   "name": "python3"
  },
  "language_info": {
   "codemirror_mode": {
    "name": "ipython",
    "version": 3
   },
   "file_extension": ".py",
   "mimetype": "text/x-python",
   "name": "python",
   "nbconvert_exporter": "python",
   "pygments_lexer": "ipython3",
   "version": "3.7.10"
  },
  "papermill": {
   "default_parameters": {},
   "duration": 1233.058913,
   "end_time": "2021-10-16T06:48:06.924505",
   "environment_variables": {},
   "exception": null,
   "input_path": "__notebook__.ipynb",
   "output_path": "__notebook__.ipynb",
   "parameters": {},
   "start_time": "2021-10-16T06:27:33.865592",
   "version": "2.3.3"
  },
  "widgets": {
   "application/vnd.jupyter.widget-state+json": {
    "state": {
     "02348b3a3e9d46ff96b372b11aded216": {
      "model_module": "@jupyter-widgets/controls",
      "model_module_version": "1.5.0",
      "model_name": "HTMLModel",
      "state": {
       "_dom_classes": [],
       "_model_module": "@jupyter-widgets/controls",
       "_model_module_version": "1.5.0",
       "_model_name": "HTMLModel",
       "_view_count": null,
       "_view_module": "@jupyter-widgets/controls",
       "_view_module_version": "1.5.0",
       "_view_name": "HTMLView",
       "description": "",
       "description_tooltip": null,
       "layout": "IPY_MODEL_d9536987bcc84cc1913110654a05f4c7",
       "placeholder": "​",
       "style": "IPY_MODEL_734cccc714554645a0c888df01d82f0c",
       "value": " 0/4542 [00:00&lt;?, ?it/s]"
      }
     },
     "055a8efe58d64371a4dee0e9db08cb31": {
      "model_module": "@jupyter-widgets/controls",
      "model_module_version": "1.5.0",
      "model_name": "HTMLModel",
      "state": {
       "_dom_classes": [],
       "_model_module": "@jupyter-widgets/controls",
       "_model_module_version": "1.5.0",
       "_model_name": "HTMLModel",
       "_view_count": null,
       "_view_module": "@jupyter-widgets/controls",
       "_view_module_version": "1.5.0",
       "_view_name": "HTMLView",
       "description": "",
       "description_tooltip": null,
       "layout": "IPY_MODEL_7ef30a0485b345d2b48eff648509e0c1",
       "placeholder": "​",
       "style": "IPY_MODEL_c043ebedc85f48f18ff14058220799d6",
       "value": "  0%"
      }
     },
     "07f6443192dd47b48620bf502b04fa8f": {
      "model_module": "@jupyter-widgets/controls",
      "model_module_version": "1.5.0",
      "model_name": "HTMLModel",
      "state": {
       "_dom_classes": [],
       "_model_module": "@jupyter-widgets/controls",
       "_model_module_version": "1.5.0",
       "_model_name": "HTMLModel",
       "_view_count": null,
       "_view_module": "@jupyter-widgets/controls",
       "_view_module_version": "1.5.0",
       "_view_name": "HTMLView",
       "description": "",
       "description_tooltip": null,
       "layout": "IPY_MODEL_e256e6e822284a70bdd89938e8843a98",
       "placeholder": "​",
       "style": "IPY_MODEL_2b1912bcb8b5448ab4d979bb94b22527",
       "value": " 0/9912422 [00:00&lt;?, ?it/s]"
      }
     },
     "0b43015ed0e14a8aa8f35c94c388269a": {
      "model_module": "@jupyter-widgets/base",
      "model_module_version": "1.2.0",
      "model_name": "LayoutModel",
      "state": {
       "_model_module": "@jupyter-widgets/base",
       "_model_module_version": "1.2.0",
       "_model_name": "LayoutModel",
       "_view_count": null,
       "_view_module": "@jupyter-widgets/base",
       "_view_module_version": "1.2.0",
       "_view_name": "LayoutView",
       "align_content": null,
       "align_items": null,
       "align_self": null,
       "border": null,
       "bottom": null,
       "display": null,
       "flex": null,
       "flex_flow": null,
       "grid_area": null,
       "grid_auto_columns": null,
       "grid_auto_flow": null,
       "grid_auto_rows": null,
       "grid_column": null,
       "grid_gap": null,
       "grid_row": null,
       "grid_template_areas": null,
       "grid_template_columns": null,
       "grid_template_rows": null,
       "height": null,
       "justify_content": null,
       "justify_items": null,
       "left": null,
       "margin": null,
       "max_height": null,
       "max_width": null,
       "min_height": null,
       "min_width": null,
       "object_fit": null,
       "object_position": null,
       "order": null,
       "overflow": null,
       "overflow_x": null,
       "overflow_y": null,
       "padding": null,
       "right": null,
       "top": null,
       "visibility": null,
       "width": null
      }
     },
     "0cc186a4a0b3406992c061128c667cf4": {
      "model_module": "@jupyter-widgets/base",
      "model_module_version": "1.2.0",
      "model_name": "LayoutModel",
      "state": {
       "_model_module": "@jupyter-widgets/base",
       "_model_module_version": "1.2.0",
       "_model_name": "LayoutModel",
       "_view_count": null,
       "_view_module": "@jupyter-widgets/base",
       "_view_module_version": "1.2.0",
       "_view_name": "LayoutView",
       "align_content": null,
       "align_items": null,
       "align_self": null,
       "border": null,
       "bottom": null,
       "display": null,
       "flex": null,
       "flex_flow": null,
       "grid_area": null,
       "grid_auto_columns": null,
       "grid_auto_flow": null,
       "grid_auto_rows": null,
       "grid_column": null,
       "grid_gap": null,
       "grid_row": null,
       "grid_template_areas": null,
       "grid_template_columns": null,
       "grid_template_rows": null,
       "height": null,
       "justify_content": null,
       "justify_items": null,
       "left": null,
       "margin": null,
       "max_height": null,
       "max_width": null,
       "min_height": null,
       "min_width": null,
       "object_fit": null,
       "object_position": null,
       "order": null,
       "overflow": null,
       "overflow_x": null,
       "overflow_y": null,
       "padding": null,
       "right": null,
       "top": null,
       "visibility": null,
       "width": null
      }
     },
     "10a16cb0fd5844c2bc785e0068f719be": {
      "model_module": "@jupyter-widgets/base",
      "model_module_version": "1.2.0",
      "model_name": "LayoutModel",
      "state": {
       "_model_module": "@jupyter-widgets/base",
       "_model_module_version": "1.2.0",
       "_model_name": "LayoutModel",
       "_view_count": null,
       "_view_module": "@jupyter-widgets/base",
       "_view_module_version": "1.2.0",
       "_view_name": "LayoutView",
       "align_content": null,
       "align_items": null,
       "align_self": null,
       "border": null,
       "bottom": null,
       "display": null,
       "flex": null,
       "flex_flow": null,
       "grid_area": null,
       "grid_auto_columns": null,
       "grid_auto_flow": null,
       "grid_auto_rows": null,
       "grid_column": null,
       "grid_gap": null,
       "grid_row": null,
       "grid_template_areas": null,
       "grid_template_columns": null,
       "grid_template_rows": null,
       "height": null,
       "justify_content": null,
       "justify_items": null,
       "left": null,
       "margin": null,
       "max_height": null,
       "max_width": null,
       "min_height": null,
       "min_width": null,
       "object_fit": null,
       "object_position": null,
       "order": null,
       "overflow": null,
       "overflow_x": null,
       "overflow_y": null,
       "padding": null,
       "right": null,
       "top": null,
       "visibility": null,
       "width": "20px"
      }
     },
     "19c688d9279f457b888aef1c80557ee5": {
      "model_module": "@jupyter-widgets/controls",
      "model_module_version": "1.5.0",
      "model_name": "DescriptionStyleModel",
      "state": {
       "_model_module": "@jupyter-widgets/controls",
       "_model_module_version": "1.5.0",
       "_model_name": "DescriptionStyleModel",
       "_view_count": null,
       "_view_module": "@jupyter-widgets/base",
       "_view_module_version": "1.2.0",
       "_view_name": "StyleView",
       "description_width": ""
      }
     },
     "1ae9be4018d64dfc8c0180d7a3676438": {
      "model_module": "@jupyter-widgets/base",
      "model_module_version": "1.2.0",
      "model_name": "LayoutModel",
      "state": {
       "_model_module": "@jupyter-widgets/base",
       "_model_module_version": "1.2.0",
       "_model_name": "LayoutModel",
       "_view_count": null,
       "_view_module": "@jupyter-widgets/base",
       "_view_module_version": "1.2.0",
       "_view_name": "LayoutView",
       "align_content": null,
       "align_items": null,
       "align_self": null,
       "border": null,
       "bottom": null,
       "display": null,
       "flex": null,
       "flex_flow": null,
       "grid_area": null,
       "grid_auto_columns": null,
       "grid_auto_flow": null,
       "grid_auto_rows": null,
       "grid_column": null,
       "grid_gap": null,
       "grid_row": null,
       "grid_template_areas": null,
       "grid_template_columns": null,
       "grid_template_rows": null,
       "height": null,
       "justify_content": null,
       "justify_items": null,
       "left": null,
       "margin": null,
       "max_height": null,
       "max_width": null,
       "min_height": null,
       "min_width": null,
       "object_fit": null,
       "object_position": null,
       "order": null,
       "overflow": null,
       "overflow_x": null,
       "overflow_y": null,
       "padding": null,
       "right": null,
       "top": null,
       "visibility": null,
       "width": null
      }
     },
     "2584c44dfcc34288b5df6ba87c6c609f": {
      "model_module": "@jupyter-widgets/base",
      "model_module_version": "1.2.0",
      "model_name": "LayoutModel",
      "state": {
       "_model_module": "@jupyter-widgets/base",
       "_model_module_version": "1.2.0",
       "_model_name": "LayoutModel",
       "_view_count": null,
       "_view_module": "@jupyter-widgets/base",
       "_view_module_version": "1.2.0",
       "_view_name": "LayoutView",
       "align_content": null,
       "align_items": null,
       "align_self": null,
       "border": null,
       "bottom": null,
       "display": null,
       "flex": null,
       "flex_flow": null,
       "grid_area": null,
       "grid_auto_columns": null,
       "grid_auto_flow": null,
       "grid_auto_rows": null,
       "grid_column": null,
       "grid_gap": null,
       "grid_row": null,
       "grid_template_areas": null,
       "grid_template_columns": null,
       "grid_template_rows": null,
       "height": null,
       "justify_content": null,
       "justify_items": null,
       "left": null,
       "margin": null,
       "max_height": null,
       "max_width": null,
       "min_height": null,
       "min_width": null,
       "object_fit": null,
       "object_position": null,
       "order": null,
       "overflow": null,
       "overflow_x": null,
       "overflow_y": null,
       "padding": null,
       "right": null,
       "top": null,
       "visibility": null,
       "width": null
      }
     },
     "2a82897c781e4ce69c2778b84b4faaad": {
      "model_module": "@jupyter-widgets/controls",
      "model_module_version": "1.5.0",
      "model_name": "HBoxModel",
      "state": {
       "_dom_classes": [],
       "_model_module": "@jupyter-widgets/controls",
       "_model_module_version": "1.5.0",
       "_model_name": "HBoxModel",
       "_view_count": null,
       "_view_module": "@jupyter-widgets/controls",
       "_view_module_version": "1.5.0",
       "_view_name": "HBoxView",
       "box_style": "",
       "children": [
        "IPY_MODEL_055a8efe58d64371a4dee0e9db08cb31",
        "IPY_MODEL_2e2cfff5d2ed41a5aefaf3a1796dbeff",
        "IPY_MODEL_4e02701b6ece4d208d3c097047fdb0e1"
       ],
       "layout": "IPY_MODEL_396548885a0641dc835d49c552dda5fb"
      }
     },
     "2b1912bcb8b5448ab4d979bb94b22527": {
      "model_module": "@jupyter-widgets/controls",
      "model_module_version": "1.5.0",
      "model_name": "DescriptionStyleModel",
      "state": {
       "_model_module": "@jupyter-widgets/controls",
       "_model_module_version": "1.5.0",
       "_model_name": "DescriptionStyleModel",
       "_view_count": null,
       "_view_module": "@jupyter-widgets/base",
       "_view_module_version": "1.2.0",
       "_view_name": "StyleView",
       "description_width": ""
      }
     },
     "2e2cfff5d2ed41a5aefaf3a1796dbeff": {
      "model_module": "@jupyter-widgets/controls",
      "model_module_version": "1.5.0",
      "model_name": "FloatProgressModel",
      "state": {
       "_dom_classes": [],
       "_model_module": "@jupyter-widgets/controls",
       "_model_module_version": "1.5.0",
       "_model_name": "FloatProgressModel",
       "_view_count": null,
       "_view_module": "@jupyter-widgets/controls",
       "_view_module_version": "1.5.0",
       "_view_name": "ProgressView",
       "bar_style": "info",
       "description": "",
       "description_tooltip": null,
       "layout": "IPY_MODEL_c93688acc30d4b1abc788e7445901b97",
       "max": 1.0,
       "min": 0.0,
       "orientation": "horizontal",
       "style": "IPY_MODEL_8a762f0b5aab4577988899cf330d69e8",
       "value": 0.0
      }
     },
     "375ccab23a514c25965a61d6c4132414": {
      "model_module": "@jupyter-widgets/controls",
      "model_module_version": "1.5.0",
      "model_name": "HTMLModel",
      "state": {
       "_dom_classes": [],
       "_model_module": "@jupyter-widgets/controls",
       "_model_module_version": "1.5.0",
       "_model_name": "HTMLModel",
       "_view_count": null,
       "_view_module": "@jupyter-widgets/controls",
       "_view_module_version": "1.5.0",
       "_view_name": "HTMLView",
       "description": "",
       "description_tooltip": null,
       "layout": "IPY_MODEL_39abaa7a5e3048189767c3d6dabab061",
       "placeholder": "​",
       "style": "IPY_MODEL_19c688d9279f457b888aef1c80557ee5",
       "value": " 0/28881 [00:00&lt;?, ?it/s]"
      }
     },
     "396548885a0641dc835d49c552dda5fb": {
      "model_module": "@jupyter-widgets/base",
      "model_module_version": "1.2.0",
      "model_name": "LayoutModel",
      "state": {
       "_model_module": "@jupyter-widgets/base",
       "_model_module_version": "1.2.0",
       "_model_name": "LayoutModel",
       "_view_count": null,
       "_view_module": "@jupyter-widgets/base",
       "_view_module_version": "1.2.0",
       "_view_name": "LayoutView",
       "align_content": null,
       "align_items": null,
       "align_self": null,
       "border": null,
       "bottom": null,
       "display": null,
       "flex": null,
       "flex_flow": null,
       "grid_area": null,
       "grid_auto_columns": null,
       "grid_auto_flow": null,
       "grid_auto_rows": null,
       "grid_column": null,
       "grid_gap": null,
       "grid_row": null,
       "grid_template_areas": null,
       "grid_template_columns": null,
       "grid_template_rows": null,
       "height": null,
       "justify_content": null,
       "justify_items": null,
       "left": null,
       "margin": null,
       "max_height": null,
       "max_width": null,
       "min_height": null,
       "min_width": null,
       "object_fit": null,
       "object_position": null,
       "order": null,
       "overflow": null,
       "overflow_x": null,
       "overflow_y": null,
       "padding": null,
       "right": null,
       "top": null,
       "visibility": null,
       "width": null
      }
     },
     "39abaa7a5e3048189767c3d6dabab061": {
      "model_module": "@jupyter-widgets/base",
      "model_module_version": "1.2.0",
      "model_name": "LayoutModel",
      "state": {
       "_model_module": "@jupyter-widgets/base",
       "_model_module_version": "1.2.0",
       "_model_name": "LayoutModel",
       "_view_count": null,
       "_view_module": "@jupyter-widgets/base",
       "_view_module_version": "1.2.0",
       "_view_name": "LayoutView",
       "align_content": null,
       "align_items": null,
       "align_self": null,
       "border": null,
       "bottom": null,
       "display": null,
       "flex": null,
       "flex_flow": null,
       "grid_area": null,
       "grid_auto_columns": null,
       "grid_auto_flow": null,
       "grid_auto_rows": null,
       "grid_column": null,
       "grid_gap": null,
       "grid_row": null,
       "grid_template_areas": null,
       "grid_template_columns": null,
       "grid_template_rows": null,
       "height": null,
       "justify_content": null,
       "justify_items": null,
       "left": null,
       "margin": null,
       "max_height": null,
       "max_width": null,
       "min_height": null,
       "min_width": null,
       "object_fit": null,
       "object_position": null,
       "order": null,
       "overflow": null,
       "overflow_x": null,
       "overflow_y": null,
       "padding": null,
       "right": null,
       "top": null,
       "visibility": null,
       "width": null
      }
     },
     "416aa244ea1f475c96be88e9657c814b": {
      "model_module": "@jupyter-widgets/base",
      "model_module_version": "1.2.0",
      "model_name": "LayoutModel",
      "state": {
       "_model_module": "@jupyter-widgets/base",
       "_model_module_version": "1.2.0",
       "_model_name": "LayoutModel",
       "_view_count": null,
       "_view_module": "@jupyter-widgets/base",
       "_view_module_version": "1.2.0",
       "_view_name": "LayoutView",
       "align_content": null,
       "align_items": null,
       "align_self": null,
       "border": null,
       "bottom": null,
       "display": null,
       "flex": null,
       "flex_flow": null,
       "grid_area": null,
       "grid_auto_columns": null,
       "grid_auto_flow": null,
       "grid_auto_rows": null,
       "grid_column": null,
       "grid_gap": null,
       "grid_row": null,
       "grid_template_areas": null,
       "grid_template_columns": null,
       "grid_template_rows": null,
       "height": null,
       "justify_content": null,
       "justify_items": null,
       "left": null,
       "margin": null,
       "max_height": null,
       "max_width": null,
       "min_height": null,
       "min_width": null,
       "object_fit": null,
       "object_position": null,
       "order": null,
       "overflow": null,
       "overflow_x": null,
       "overflow_y": null,
       "padding": null,
       "right": null,
       "top": null,
       "visibility": null,
       "width": "20px"
      }
     },
     "4d4da3b0bb984ef597a156b3ec87e5f9": {
      "model_module": "@jupyter-widgets/controls",
      "model_module_version": "1.5.0",
      "model_name": "HBoxModel",
      "state": {
       "_dom_classes": [],
       "_model_module": "@jupyter-widgets/controls",
       "_model_module_version": "1.5.0",
       "_model_name": "HBoxModel",
       "_view_count": null,
       "_view_module": "@jupyter-widgets/controls",
       "_view_module_version": "1.5.0",
       "_view_name": "HBoxView",
       "box_style": "",
       "children": [
        "IPY_MODEL_ca17c5eb44924e98b8f2a501b4f216ac",
        "IPY_MODEL_ac5cf88f0bc74170b69c62f778d12f4d",
        "IPY_MODEL_375ccab23a514c25965a61d6c4132414"
       ],
       "layout": "IPY_MODEL_0cc186a4a0b3406992c061128c667cf4"
      }
     },
     "4e02701b6ece4d208d3c097047fdb0e1": {
      "model_module": "@jupyter-widgets/controls",
      "model_module_version": "1.5.0",
      "model_name": "HTMLModel",
      "state": {
       "_dom_classes": [],
       "_model_module": "@jupyter-widgets/controls",
       "_model_module_version": "1.5.0",
       "_model_name": "HTMLModel",
       "_view_count": null,
       "_view_module": "@jupyter-widgets/controls",
       "_view_module_version": "1.5.0",
       "_view_name": "HTMLView",
       "description": "",
       "description_tooltip": null,
       "layout": "IPY_MODEL_0b43015ed0e14a8aa8f35c94c388269a",
       "placeholder": "​",
       "style": "IPY_MODEL_ae8b67c9037d4684adba4dccf128bd08",
       "value": " 0/1648877 [00:00&lt;?, ?it/s]"
      }
     },
     "61786bb3d54948948bb1364fcdf9bd89": {
      "model_module": "@jupyter-widgets/controls",
      "model_module_version": "1.5.0",
      "model_name": "DescriptionStyleModel",
      "state": {
       "_model_module": "@jupyter-widgets/controls",
       "_model_module_version": "1.5.0",
       "_model_name": "DescriptionStyleModel",
       "_view_count": null,
       "_view_module": "@jupyter-widgets/base",
       "_view_module_version": "1.2.0",
       "_view_name": "StyleView",
       "description_width": ""
      }
     },
     "734cccc714554645a0c888df01d82f0c": {
      "model_module": "@jupyter-widgets/controls",
      "model_module_version": "1.5.0",
      "model_name": "DescriptionStyleModel",
      "state": {
       "_model_module": "@jupyter-widgets/controls",
       "_model_module_version": "1.5.0",
       "_model_name": "DescriptionStyleModel",
       "_view_count": null,
       "_view_module": "@jupyter-widgets/base",
       "_view_module_version": "1.2.0",
       "_view_name": "StyleView",
       "description_width": ""
      }
     },
     "73af6f5918da483e8918f932b0cd1bbb": {
      "model_module": "@jupyter-widgets/base",
      "model_module_version": "1.2.0",
      "model_name": "LayoutModel",
      "state": {
       "_model_module": "@jupyter-widgets/base",
       "_model_module_version": "1.2.0",
       "_model_name": "LayoutModel",
       "_view_count": null,
       "_view_module": "@jupyter-widgets/base",
       "_view_module_version": "1.2.0",
       "_view_name": "LayoutView",
       "align_content": null,
       "align_items": null,
       "align_self": null,
       "border": null,
       "bottom": null,
       "display": null,
       "flex": null,
       "flex_flow": null,
       "grid_area": null,
       "grid_auto_columns": null,
       "grid_auto_flow": null,
       "grid_auto_rows": null,
       "grid_column": null,
       "grid_gap": null,
       "grid_row": null,
       "grid_template_areas": null,
       "grid_template_columns": null,
       "grid_template_rows": null,
       "height": null,
       "justify_content": null,
       "justify_items": null,
       "left": null,
       "margin": null,
       "max_height": null,
       "max_width": null,
       "min_height": null,
       "min_width": null,
       "object_fit": null,
       "object_position": null,
       "order": null,
       "overflow": null,
       "overflow_x": null,
       "overflow_y": null,
       "padding": null,
       "right": null,
       "top": null,
       "visibility": null,
       "width": "20px"
      }
     },
     "7ef30a0485b345d2b48eff648509e0c1": {
      "model_module": "@jupyter-widgets/base",
      "model_module_version": "1.2.0",
      "model_name": "LayoutModel",
      "state": {
       "_model_module": "@jupyter-widgets/base",
       "_model_module_version": "1.2.0",
       "_model_name": "LayoutModel",
       "_view_count": null,
       "_view_module": "@jupyter-widgets/base",
       "_view_module_version": "1.2.0",
       "_view_name": "LayoutView",
       "align_content": null,
       "align_items": null,
       "align_self": null,
       "border": null,
       "bottom": null,
       "display": null,
       "flex": null,
       "flex_flow": null,
       "grid_area": null,
       "grid_auto_columns": null,
       "grid_auto_flow": null,
       "grid_auto_rows": null,
       "grid_column": null,
       "grid_gap": null,
       "grid_row": null,
       "grid_template_areas": null,
       "grid_template_columns": null,
       "grid_template_rows": null,
       "height": null,
       "justify_content": null,
       "justify_items": null,
       "left": null,
       "margin": null,
       "max_height": null,
       "max_width": null,
       "min_height": null,
       "min_width": null,
       "object_fit": null,
       "object_position": null,
       "order": null,
       "overflow": null,
       "overflow_x": null,
       "overflow_y": null,
       "padding": null,
       "right": null,
       "top": null,
       "visibility": null,
       "width": null
      }
     },
     "82f5a36c1b834b0faf46cb64319e55e0": {
      "model_module": "@jupyter-widgets/base",
      "model_module_version": "1.2.0",
      "model_name": "LayoutModel",
      "state": {
       "_model_module": "@jupyter-widgets/base",
       "_model_module_version": "1.2.0",
       "_model_name": "LayoutModel",
       "_view_count": null,
       "_view_module": "@jupyter-widgets/base",
       "_view_module_version": "1.2.0",
       "_view_name": "LayoutView",
       "align_content": null,
       "align_items": null,
       "align_self": null,
       "border": null,
       "bottom": null,
       "display": null,
       "flex": null,
       "flex_flow": null,
       "grid_area": null,
       "grid_auto_columns": null,
       "grid_auto_flow": null,
       "grid_auto_rows": null,
       "grid_column": null,
       "grid_gap": null,
       "grid_row": null,
       "grid_template_areas": null,
       "grid_template_columns": null,
       "grid_template_rows": null,
       "height": null,
       "justify_content": null,
       "justify_items": null,
       "left": null,
       "margin": null,
       "max_height": null,
       "max_width": null,
       "min_height": null,
       "min_width": null,
       "object_fit": null,
       "object_position": null,
       "order": null,
       "overflow": null,
       "overflow_x": null,
       "overflow_y": null,
       "padding": null,
       "right": null,
       "top": null,
       "visibility": null,
       "width": null
      }
     },
     "8a762f0b5aab4577988899cf330d69e8": {
      "model_module": "@jupyter-widgets/controls",
      "model_module_version": "1.5.0",
      "model_name": "ProgressStyleModel",
      "state": {
       "_model_module": "@jupyter-widgets/controls",
       "_model_module_version": "1.5.0",
       "_model_name": "ProgressStyleModel",
       "_view_count": null,
       "_view_module": "@jupyter-widgets/base",
       "_view_module_version": "1.2.0",
       "_view_name": "StyleView",
       "bar_color": null,
       "description_width": ""
      }
     },
     "90277970010548ac9d5cc3933f94e051": {
      "model_module": "@jupyter-widgets/controls",
      "model_module_version": "1.5.0",
      "model_name": "DescriptionStyleModel",
      "state": {
       "_model_module": "@jupyter-widgets/controls",
       "_model_module_version": "1.5.0",
       "_model_name": "DescriptionStyleModel",
       "_view_count": null,
       "_view_module": "@jupyter-widgets/base",
       "_view_module_version": "1.2.0",
       "_view_name": "StyleView",
       "description_width": ""
      }
     },
     "99e229b302434ca5bfbdd16e631f1370": {
      "model_module": "@jupyter-widgets/base",
      "model_module_version": "1.2.0",
      "model_name": "LayoutModel",
      "state": {
       "_model_module": "@jupyter-widgets/base",
       "_model_module_version": "1.2.0",
       "_model_name": "LayoutModel",
       "_view_count": null,
       "_view_module": "@jupyter-widgets/base",
       "_view_module_version": "1.2.0",
       "_view_name": "LayoutView",
       "align_content": null,
       "align_items": null,
       "align_self": null,
       "border": null,
       "bottom": null,
       "display": null,
       "flex": null,
       "flex_flow": null,
       "grid_area": null,
       "grid_auto_columns": null,
       "grid_auto_flow": null,
       "grid_auto_rows": null,
       "grid_column": null,
       "grid_gap": null,
       "grid_row": null,
       "grid_template_areas": null,
       "grid_template_columns": null,
       "grid_template_rows": null,
       "height": null,
       "justify_content": null,
       "justify_items": null,
       "left": null,
       "margin": null,
       "max_height": null,
       "max_width": null,
       "min_height": null,
       "min_width": null,
       "object_fit": null,
       "object_position": null,
       "order": null,
       "overflow": null,
       "overflow_x": null,
       "overflow_y": null,
       "padding": null,
       "right": null,
       "top": null,
       "visibility": null,
       "width": null
      }
     },
     "9a90ab7291f545cd9a085cbfc9b10149": {
      "model_module": "@jupyter-widgets/controls",
      "model_module_version": "1.5.0",
      "model_name": "FloatProgressModel",
      "state": {
       "_dom_classes": [],
       "_model_module": "@jupyter-widgets/controls",
       "_model_module_version": "1.5.0",
       "_model_name": "FloatProgressModel",
       "_view_count": null,
       "_view_module": "@jupyter-widgets/controls",
       "_view_module_version": "1.5.0",
       "_view_name": "ProgressView",
       "bar_style": "info",
       "description": "",
       "description_tooltip": null,
       "layout": "IPY_MODEL_73af6f5918da483e8918f932b0cd1bbb",
       "max": 1.0,
       "min": 0.0,
       "orientation": "horizontal",
       "style": "IPY_MODEL_c73c119bd9ad4b0cba373428d85fbf28",
       "value": 0.0
      }
     },
     "9effba75e10d4568b6921e5fba24162b": {
      "model_module": "@jupyter-widgets/base",
      "model_module_version": "1.2.0",
      "model_name": "LayoutModel",
      "state": {
       "_model_module": "@jupyter-widgets/base",
       "_model_module_version": "1.2.0",
       "_model_name": "LayoutModel",
       "_view_count": null,
       "_view_module": "@jupyter-widgets/base",
       "_view_module_version": "1.2.0",
       "_view_name": "LayoutView",
       "align_content": null,
       "align_items": null,
       "align_self": null,
       "border": null,
       "bottom": null,
       "display": null,
       "flex": null,
       "flex_flow": null,
       "grid_area": null,
       "grid_auto_columns": null,
       "grid_auto_flow": null,
       "grid_auto_rows": null,
       "grid_column": null,
       "grid_gap": null,
       "grid_row": null,
       "grid_template_areas": null,
       "grid_template_columns": null,
       "grid_template_rows": null,
       "height": null,
       "justify_content": null,
       "justify_items": null,
       "left": null,
       "margin": null,
       "max_height": null,
       "max_width": null,
       "min_height": null,
       "min_width": null,
       "object_fit": null,
       "object_position": null,
       "order": null,
       "overflow": null,
       "overflow_x": null,
       "overflow_y": null,
       "padding": null,
       "right": null,
       "top": null,
       "visibility": null,
       "width": null
      }
     },
     "a2799a72d837404a96239e97093ff57c": {
      "model_module": "@jupyter-widgets/controls",
      "model_module_version": "1.5.0",
      "model_name": "FloatProgressModel",
      "state": {
       "_dom_classes": [],
       "_model_module": "@jupyter-widgets/controls",
       "_model_module_version": "1.5.0",
       "_model_name": "FloatProgressModel",
       "_view_count": null,
       "_view_module": "@jupyter-widgets/controls",
       "_view_module_version": "1.5.0",
       "_view_name": "ProgressView",
       "bar_style": "info",
       "description": "",
       "description_tooltip": null,
       "layout": "IPY_MODEL_10a16cb0fd5844c2bc785e0068f719be",
       "max": 1.0,
       "min": 0.0,
       "orientation": "horizontal",
       "style": "IPY_MODEL_f7995aa92e514c5ea2eb9eb8ea2b9bcc",
       "value": 0.0
      }
     },
     "ac5cf88f0bc74170b69c62f778d12f4d": {
      "model_module": "@jupyter-widgets/controls",
      "model_module_version": "1.5.0",
      "model_name": "FloatProgressModel",
      "state": {
       "_dom_classes": [],
       "_model_module": "@jupyter-widgets/controls",
       "_model_module_version": "1.5.0",
       "_model_name": "FloatProgressModel",
       "_view_count": null,
       "_view_module": "@jupyter-widgets/controls",
       "_view_module_version": "1.5.0",
       "_view_name": "ProgressView",
       "bar_style": "info",
       "description": "",
       "description_tooltip": null,
       "layout": "IPY_MODEL_416aa244ea1f475c96be88e9657c814b",
       "max": 1.0,
       "min": 0.0,
       "orientation": "horizontal",
       "style": "IPY_MODEL_dd51a6e2fcba4c48bf469f51533c961a",
       "value": 0.0
      }
     },
     "ae8b67c9037d4684adba4dccf128bd08": {
      "model_module": "@jupyter-widgets/controls",
      "model_module_version": "1.5.0",
      "model_name": "DescriptionStyleModel",
      "state": {
       "_model_module": "@jupyter-widgets/controls",
       "_model_module_version": "1.5.0",
       "_model_name": "DescriptionStyleModel",
       "_view_count": null,
       "_view_module": "@jupyter-widgets/base",
       "_view_module_version": "1.2.0",
       "_view_name": "StyleView",
       "description_width": ""
      }
     },
     "c043ebedc85f48f18ff14058220799d6": {
      "model_module": "@jupyter-widgets/controls",
      "model_module_version": "1.5.0",
      "model_name": "DescriptionStyleModel",
      "state": {
       "_model_module": "@jupyter-widgets/controls",
       "_model_module_version": "1.5.0",
       "_model_name": "DescriptionStyleModel",
       "_view_count": null,
       "_view_module": "@jupyter-widgets/base",
       "_view_module_version": "1.2.0",
       "_view_name": "StyleView",
       "description_width": ""
      }
     },
     "c4077e5a38be446a90181b50da0d6321": {
      "model_module": "@jupyter-widgets/controls",
      "model_module_version": "1.5.0",
      "model_name": "HTMLModel",
      "state": {
       "_dom_classes": [],
       "_model_module": "@jupyter-widgets/controls",
       "_model_module_version": "1.5.0",
       "_model_name": "HTMLModel",
       "_view_count": null,
       "_view_module": "@jupyter-widgets/controls",
       "_view_module_version": "1.5.0",
       "_view_name": "HTMLView",
       "description": "",
       "description_tooltip": null,
       "layout": "IPY_MODEL_9effba75e10d4568b6921e5fba24162b",
       "placeholder": "​",
       "style": "IPY_MODEL_90277970010548ac9d5cc3933f94e051",
       "value": "  0%"
      }
     },
     "c5d7850f5731492da39bbcf9a3d41303": {
      "model_module": "@jupyter-widgets/controls",
      "model_module_version": "1.5.0",
      "model_name": "DescriptionStyleModel",
      "state": {
       "_model_module": "@jupyter-widgets/controls",
       "_model_module_version": "1.5.0",
       "_model_name": "DescriptionStyleModel",
       "_view_count": null,
       "_view_module": "@jupyter-widgets/base",
       "_view_module_version": "1.2.0",
       "_view_name": "StyleView",
       "description_width": ""
      }
     },
     "c73c119bd9ad4b0cba373428d85fbf28": {
      "model_module": "@jupyter-widgets/controls",
      "model_module_version": "1.5.0",
      "model_name": "ProgressStyleModel",
      "state": {
       "_model_module": "@jupyter-widgets/controls",
       "_model_module_version": "1.5.0",
       "_model_name": "ProgressStyleModel",
       "_view_count": null,
       "_view_module": "@jupyter-widgets/base",
       "_view_module_version": "1.2.0",
       "_view_name": "StyleView",
       "bar_color": null,
       "description_width": ""
      }
     },
     "c93688acc30d4b1abc788e7445901b97": {
      "model_module": "@jupyter-widgets/base",
      "model_module_version": "1.2.0",
      "model_name": "LayoutModel",
      "state": {
       "_model_module": "@jupyter-widgets/base",
       "_model_module_version": "1.2.0",
       "_model_name": "LayoutModel",
       "_view_count": null,
       "_view_module": "@jupyter-widgets/base",
       "_view_module_version": "1.2.0",
       "_view_name": "LayoutView",
       "align_content": null,
       "align_items": null,
       "align_self": null,
       "border": null,
       "bottom": null,
       "display": null,
       "flex": null,
       "flex_flow": null,
       "grid_area": null,
       "grid_auto_columns": null,
       "grid_auto_flow": null,
       "grid_auto_rows": null,
       "grid_column": null,
       "grid_gap": null,
       "grid_row": null,
       "grid_template_areas": null,
       "grid_template_columns": null,
       "grid_template_rows": null,
       "height": null,
       "justify_content": null,
       "justify_items": null,
       "left": null,
       "margin": null,
       "max_height": null,
       "max_width": null,
       "min_height": null,
       "min_width": null,
       "object_fit": null,
       "object_position": null,
       "order": null,
       "overflow": null,
       "overflow_x": null,
       "overflow_y": null,
       "padding": null,
       "right": null,
       "top": null,
       "visibility": null,
       "width": "20px"
      }
     },
     "ca17c5eb44924e98b8f2a501b4f216ac": {
      "model_module": "@jupyter-widgets/controls",
      "model_module_version": "1.5.0",
      "model_name": "HTMLModel",
      "state": {
       "_dom_classes": [],
       "_model_module": "@jupyter-widgets/controls",
       "_model_module_version": "1.5.0",
       "_model_name": "HTMLModel",
       "_view_count": null,
       "_view_module": "@jupyter-widgets/controls",
       "_view_module_version": "1.5.0",
       "_view_name": "HTMLView",
       "description": "",
       "description_tooltip": null,
       "layout": "IPY_MODEL_99e229b302434ca5bfbdd16e631f1370",
       "placeholder": "​",
       "style": "IPY_MODEL_61786bb3d54948948bb1364fcdf9bd89",
       "value": "  0%"
      }
     },
     "cd75aa8128d64abc962ca67e6b86172a": {
      "model_module": "@jupyter-widgets/controls",
      "model_module_version": "1.5.0",
      "model_name": "HBoxModel",
      "state": {
       "_dom_classes": [],
       "_model_module": "@jupyter-widgets/controls",
       "_model_module_version": "1.5.0",
       "_model_name": "HBoxModel",
       "_view_count": null,
       "_view_module": "@jupyter-widgets/controls",
       "_view_module_version": "1.5.0",
       "_view_name": "HBoxView",
       "box_style": "",
       "children": [
        "IPY_MODEL_fbe59a3434d54d1395789bc42c8f5e1d",
        "IPY_MODEL_a2799a72d837404a96239e97093ff57c",
        "IPY_MODEL_07f6443192dd47b48620bf502b04fa8f"
       ],
       "layout": "IPY_MODEL_1ae9be4018d64dfc8c0180d7a3676438"
      }
     },
     "d9536987bcc84cc1913110654a05f4c7": {
      "model_module": "@jupyter-widgets/base",
      "model_module_version": "1.2.0",
      "model_name": "LayoutModel",
      "state": {
       "_model_module": "@jupyter-widgets/base",
       "_model_module_version": "1.2.0",
       "_model_name": "LayoutModel",
       "_view_count": null,
       "_view_module": "@jupyter-widgets/base",
       "_view_module_version": "1.2.0",
       "_view_name": "LayoutView",
       "align_content": null,
       "align_items": null,
       "align_self": null,
       "border": null,
       "bottom": null,
       "display": null,
       "flex": null,
       "flex_flow": null,
       "grid_area": null,
       "grid_auto_columns": null,
       "grid_auto_flow": null,
       "grid_auto_rows": null,
       "grid_column": null,
       "grid_gap": null,
       "grid_row": null,
       "grid_template_areas": null,
       "grid_template_columns": null,
       "grid_template_rows": null,
       "height": null,
       "justify_content": null,
       "justify_items": null,
       "left": null,
       "margin": null,
       "max_height": null,
       "max_width": null,
       "min_height": null,
       "min_width": null,
       "object_fit": null,
       "object_position": null,
       "order": null,
       "overflow": null,
       "overflow_x": null,
       "overflow_y": null,
       "padding": null,
       "right": null,
       "top": null,
       "visibility": null,
       "width": null
      }
     },
     "dd51a6e2fcba4c48bf469f51533c961a": {
      "model_module": "@jupyter-widgets/controls",
      "model_module_version": "1.5.0",
      "model_name": "ProgressStyleModel",
      "state": {
       "_model_module": "@jupyter-widgets/controls",
       "_model_module_version": "1.5.0",
       "_model_name": "ProgressStyleModel",
       "_view_count": null,
       "_view_module": "@jupyter-widgets/base",
       "_view_module_version": "1.2.0",
       "_view_name": "StyleView",
       "bar_color": null,
       "description_width": ""
      }
     },
     "e256e6e822284a70bdd89938e8843a98": {
      "model_module": "@jupyter-widgets/base",
      "model_module_version": "1.2.0",
      "model_name": "LayoutModel",
      "state": {
       "_model_module": "@jupyter-widgets/base",
       "_model_module_version": "1.2.0",
       "_model_name": "LayoutModel",
       "_view_count": null,
       "_view_module": "@jupyter-widgets/base",
       "_view_module_version": "1.2.0",
       "_view_name": "LayoutView",
       "align_content": null,
       "align_items": null,
       "align_self": null,
       "border": null,
       "bottom": null,
       "display": null,
       "flex": null,
       "flex_flow": null,
       "grid_area": null,
       "grid_auto_columns": null,
       "grid_auto_flow": null,
       "grid_auto_rows": null,
       "grid_column": null,
       "grid_gap": null,
       "grid_row": null,
       "grid_template_areas": null,
       "grid_template_columns": null,
       "grid_template_rows": null,
       "height": null,
       "justify_content": null,
       "justify_items": null,
       "left": null,
       "margin": null,
       "max_height": null,
       "max_width": null,
       "min_height": null,
       "min_width": null,
       "object_fit": null,
       "object_position": null,
       "order": null,
       "overflow": null,
       "overflow_x": null,
       "overflow_y": null,
       "padding": null,
       "right": null,
       "top": null,
       "visibility": null,
       "width": null
      }
     },
     "f06d0932c9624b939a2d9b0da0858ac0": {
      "model_module": "@jupyter-widgets/controls",
      "model_module_version": "1.5.0",
      "model_name": "HBoxModel",
      "state": {
       "_dom_classes": [],
       "_model_module": "@jupyter-widgets/controls",
       "_model_module_version": "1.5.0",
       "_model_name": "HBoxModel",
       "_view_count": null,
       "_view_module": "@jupyter-widgets/controls",
       "_view_module_version": "1.5.0",
       "_view_name": "HBoxView",
       "box_style": "",
       "children": [
        "IPY_MODEL_c4077e5a38be446a90181b50da0d6321",
        "IPY_MODEL_9a90ab7291f545cd9a085cbfc9b10149",
        "IPY_MODEL_02348b3a3e9d46ff96b372b11aded216"
       ],
       "layout": "IPY_MODEL_2584c44dfcc34288b5df6ba87c6c609f"
      }
     },
     "f7995aa92e514c5ea2eb9eb8ea2b9bcc": {
      "model_module": "@jupyter-widgets/controls",
      "model_module_version": "1.5.0",
      "model_name": "ProgressStyleModel",
      "state": {
       "_model_module": "@jupyter-widgets/controls",
       "_model_module_version": "1.5.0",
       "_model_name": "ProgressStyleModel",
       "_view_count": null,
       "_view_module": "@jupyter-widgets/base",
       "_view_module_version": "1.2.0",
       "_view_name": "StyleView",
       "bar_color": null,
       "description_width": ""
      }
     },
     "fbe59a3434d54d1395789bc42c8f5e1d": {
      "model_module": "@jupyter-widgets/controls",
      "model_module_version": "1.5.0",
      "model_name": "HTMLModel",
      "state": {
       "_dom_classes": [],
       "_model_module": "@jupyter-widgets/controls",
       "_model_module_version": "1.5.0",
       "_model_name": "HTMLModel",
       "_view_count": null,
       "_view_module": "@jupyter-widgets/controls",
       "_view_module_version": "1.5.0",
       "_view_name": "HTMLView",
       "description": "",
       "description_tooltip": null,
       "layout": "IPY_MODEL_82f5a36c1b834b0faf46cb64319e55e0",
       "placeholder": "​",
       "style": "IPY_MODEL_c5d7850f5731492da39bbcf9a3d41303",
       "value": "  0%"
      }
     }
    },
    "version_major": 2,
    "version_minor": 0
   }
  }
 },
 "nbformat": 4,
 "nbformat_minor": 5
}
