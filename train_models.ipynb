{
 "cells": [
  {
   "cell_type": "code",
   "execution_count": 1,
   "metadata": {
    "execution": {
     "iopub.execute_input": "2021-11-21T20:49:14.987663Z",
     "iopub.status.busy": "2021-11-21T20:49:14.987329Z",
     "iopub.status.idle": "2021-11-21T20:49:28.640193Z",
     "shell.execute_reply": "2021-11-21T20:49:28.639310Z",
     "shell.execute_reply.started": "2021-11-21T20:49:14.987579Z"
    }
   },
   "outputs": [],
   "source": [
    "import os\n",
    "\n",
    "import numpy as np # linear algebra\n",
    "import pandas as pd # data processing, CSV file I/O (e.g. pd.read_csv)\n",
    "import matplotlib.pyplot as plt # visualization\n",
    "import seaborn as sns # visualization\n",
    "# machine learning\n",
    "import torch \n",
    "import torch.nn as nn\n",
    "import torch.optim as optim\n",
    "import torchvision\n",
    "from torchvision import transforms, datasets, models\n",
    "\n",
    "!pip3 install progressbar\n",
    "import progressbar"
   ]
  },
  {
   "cell_type": "code",
   "execution_count": 17,
   "metadata": {
    "execution": {
     "iopub.execute_input": "2021-11-21T22:04:57.088393Z",
     "iopub.status.busy": "2021-11-21T22:04:57.088033Z",
     "iopub.status.idle": "2021-11-21T22:04:57.150617Z",
     "shell.execute_reply": "2021-11-21T22:04:57.149757Z",
     "shell.execute_reply.started": "2021-11-21T22:04:57.088358Z"
    }
   },
   "outputs": [],
   "source": [
    "# implemented classes\n",
    "from BasicClassifier import BasicClassifier\n",
    "from DataAugment import DataAug\n",
    "from Metrics import Metrics"
   ]
  },
  {
   "cell_type": "code",
   "execution_count": 18,
   "metadata": {
    "editable": false,
    "execution": {
     "iopub.execute_input": "2021-11-21T22:04:58.009970Z",
     "iopub.status.busy": "2021-11-21T22:04:58.009437Z",
     "iopub.status.idle": "2021-11-21T22:04:58.013522Z",
     "shell.execute_reply": "2021-11-21T22:04:58.012589Z",
     "shell.execute_reply.started": "2021-11-21T22:04:58.009932Z"
    }
   },
   "outputs": [],
   "source": [
    "daug = DataAug()"
   ]
  },
  {
   "cell_type": "code",
   "execution_count": 19,
   "metadata": {
    "editable": false,
    "execution": {
     "iopub.execute_input": "2021-11-21T22:05:03.079196Z",
     "iopub.status.busy": "2021-11-21T22:05:03.078640Z",
     "iopub.status.idle": "2021-11-21T22:05:03.084144Z",
     "shell.execute_reply": "2021-11-21T22:05:03.083350Z",
     "shell.execute_reply.started": "2021-11-21T22:05:03.079159Z"
    }
   },
   "outputs": [],
   "source": [
    "device = torch.device(\"cuda:0\" if torch.cuda.is_available() else \"cpu\")\n",
    "print(device)"
   ]
  },
  {
   "cell_type": "code",
   "execution_count": 20,
   "metadata": {
    "editable": false,
    "execution": {
     "iopub.execute_input": "2021-11-21T22:05:03.253323Z",
     "iopub.status.busy": "2021-11-21T22:05:03.252644Z",
     "iopub.status.idle": "2021-11-21T22:05:03.257312Z",
     "shell.execute_reply": "2021-11-21T22:05:03.256557Z",
     "shell.execute_reply.started": "2021-11-21T22:05:03.253286Z"
    }
   },
   "outputs": [],
   "source": [
    "widgets = [\n",
    "    ' [', progressbar.Timer(), '] ',\n",
    "    progressbar.Percentage(), ' ',\n",
    "    progressbar.Bar(),\n",
    "    ' (', progressbar.ETA(), ') ',\n",
    "]"
   ]
  },
  {
   "cell_type": "code",
   "execution_count": 21,
   "metadata": {
    "editable": false,
    "execution": {
     "iopub.execute_input": "2021-11-21T22:05:03.439090Z",
     "iopub.status.busy": "2021-11-21T22:05:03.438506Z",
     "iopub.status.idle": "2021-11-21T22:05:03.481341Z",
     "shell.execute_reply": "2021-11-21T22:05:03.480578Z",
     "shell.execute_reply.started": "2021-11-21T22:05:03.439053Z"
    }
   },
   "outputs": [],
   "source": [
    "# import mnist dataset\n",
    "dataset = \"MNIST\"\n",
    "BATCH_SIZE = 500\n",
    "num_classes = 10\n",
    "\n",
    "train_loader = torch.utils.data.DataLoader(\n",
    "    torchvision.datasets.MNIST('./data',\n",
    "                               train=True,\n",
    "                               download=True,\n",
    "                               transform=torchvision.transforms.ToTensor()),\n",
    "    batch_size=BATCH_SIZE,shuffle=True)\n",
    "\n",
    "test_loader = torch.utils.data.DataLoader(\n",
    "    torchvision.datasets.MNIST('./data',\n",
    "                               train=False,\n",
    "                               download=True,\n",
    "                               transform=torchvision.transforms.ToTensor()),\n",
    "    batch_size=BATCH_SIZE,shuffle=True)"
   ]
  },
  {
   "cell_type": "markdown",
   "metadata": {
    "editable": false
   },
   "source": [
    "# Model Trainer"
   ]
  },
  {
   "cell_type": "code",
   "execution_count": 22,
   "metadata": {
    "execution": {
     "iopub.execute_input": "2021-11-21T22:05:04.510720Z",
     "iopub.status.busy": "2021-11-21T22:05:04.510424Z",
     "iopub.status.idle": "2021-11-21T22:05:04.539206Z",
     "shell.execute_reply": "2021-11-21T22:05:04.538542Z",
     "shell.execute_reply.started": "2021-11-21T22:05:04.510686Z"
    }
   },
   "outputs": [],
   "source": [
    "def train(model,train_loader,test_loader,proportion,funcs,func_proportions,inject=False,NUM_CLASSSES=10,NUM_EPOCHS=25):\n",
    "    criterion = nn.CrossEntropyLoss()\n",
    "    optimizer = optim.Adam(model.parameters(),lr=3e-5)\n",
    "    \n",
    "    epoch_metrics = {}\n",
    "    epoch_test_metrics = {}\n",
    "    \n",
    "    bar = progressbar.ProgressBar(NUM_EPOCHS*len(train_loader),widgets=widgets).start()\n",
    "    for epoch in range(NUM_EPOCHS):\n",
    "        model.metric.reset_confusion_matrix(NUM_CLASSSES)\n",
    "        \n",
    "        for i, (inputs, labels) in enumerate(train_loader):\n",
    "            optimizer.zero_grad()\n",
    "            \n",
    "            randomize = np.arange(inputs.shape[0])\n",
    "            lossyinputs = func_divider(inputs,proportion,funcs,func_proportions,inject)\n",
    "            np.random.shuffle(randomize)\n",
    "            lossyinputs = lossyinputs[randomize]\n",
    "            labels = labels[randomize]\n",
    "            \n",
    "            outputs = model(lossyinputs.to(device))\n",
    "            loss = criterion(outputs, labels.to(device))\n",
    "            loss.backward()\n",
    "            optimizer.step()\n",
    "            # statistics\n",
    "            model.metric.update_confusion_matrix(outputs.to('cpu'),labels)\n",
    "            # progressbar\n",
    "            bar.update(epoch*len(train_loader)+i)\n",
    "        epoch_metrics[epoch] = model.metric.classification_metrics()\n",
    "        \n",
    "        with torch.no_grad():\n",
    "            model.metric.reset_confusion_matrix(NUM_CLASSSES)\n",
    "            for (inputs, labels) in test_loader:\n",
    "                outputs = model(func_divider(inputs,proportion,funcs,func_proportions,inject).to(device))\n",
    "                # statistics\n",
    "                model.metric.update_confusion_matrix(outputs.to('cpu'),labels)\n",
    "                # progressbar\n",
    "            epoch_test_metrics[epoch] = model.metric.classification_metrics()\n",
    "            \n",
    "    return (epoch_metrics,epoch_test_metrics)\n",
    "\n",
    "def func_divider(inputs,proportion,funcs,func_proportions,inject):\n",
    "    func_num = np.ceil(func_proportions*inputs.shape[0]).astype(int)\n",
    "    lossyinputs = torch.clone(inputs)\n",
    "    h = 0\n",
    "    t = 0\n",
    "    for i, func in enumerate(funcs):\n",
    "        t += func_num[i]\n",
    "        lossyinputs[h:t] = funcs[func](lossyinputs[h:t],proportion,inject)\n",
    "        h += t\n",
    "    return lossyinputs\n",
    "    \n",
    "def display_training_metrics(name,epoch_metrics):\n",
    "    sns.lineplot(x=list(epoch_metrics.keys()),y=np.array(list(epoch_metrics.values()),dtype=float)[:,1]) # precision\n",
    "    sns.lineplot(x=list(epoch_metrics.keys()),y=np.array(list(epoch_metrics.values()),dtype=float)[:,2]) # recall\n",
    "    sns.lineplot(x=list(epoch_metrics.keys()),y=np.array(list(epoch_metrics.values()),dtype=float)[:,0],) # accuracy\n",
    "    plt.xlabel('epoch')\n",
    "    plt.title(name)\n",
    "    \n",
    "def display_testing_metrics(name,epoch_metrics):\n",
    "    sns.lineplot(x=list(epoch_metrics.keys()),y=np.array(list(epoch_metrics.values()),dtype=float)[:,1]) # precision\n",
    "    sns.lineplot(x=list(epoch_metrics.keys()),y=np.array(list(epoch_metrics.values()),dtype=float)[:,2]) # recall\n",
    "    sns.lineplot(x=list(epoch_metrics.keys()),y=np.array(list(epoch_metrics.values()),dtype=float)[:,0],) # accuracy\n",
    "    plt.xlim([0, 1])\n",
    "    plt.ylim([0, 1])\n",
    "    plt.xlabel('% loss')\n",
    "    plt.title(name)\n",
    "    \n",
    "def display_testing_metrics_hist(name,metrics):\n",
    "    sns.barplot(x=['accuracy','precision','recall'],y=metrics[0:3])\n",
    "    plt.ylim([0, 1])\n",
    "    plt.title(name)"
   ]
  },
  {
   "cell_type": "code",
   "execution_count": 23,
   "metadata": {
    "execution": {
     "iopub.execute_input": "2021-11-21T22:05:05.513994Z",
     "iopub.status.busy": "2021-11-21T22:05:05.513461Z",
     "iopub.status.idle": "2021-11-21T22:05:05.519421Z",
     "shell.execute_reply": "2021-11-21T22:05:05.518624Z",
     "shell.execute_reply.started": "2021-11-21T22:05:05.513951Z"
    }
   },
   "outputs": [],
   "source": [
    "func_dict = {'rand_pixel':getattr(daug, 'rand_pixel'),\n",
    "             'rand_row':getattr(daug, 'rand_row'),\n",
    "             'rand_column':getattr(daug, 'rand_column'),\n",
    "             'rand_rowcol':getattr(daug, 'rand_rowcol'),\n",
    "             'rand_block':getattr(daug, 'rand_rowcol'),\n",
    "             'pattern_checkerboard':getattr(daug,'pattern_checkerboard'),\n",
    "             'pattern_column':getattr(daug,'pattern_column'),\n",
    "             'pattern_row':getattr(daug,'pattern_row')}"
   ]
  },
  {
   "cell_type": "markdown",
   "metadata": {},
   "source": [
    "# Hybrid Model Generator"
   ]
  },
  {
   "cell_type": "code",
   "execution_count": 9,
   "metadata": {
    "execution": {
     "iopub.execute_input": "2021-11-21T20:49:58.037846Z",
     "iopub.status.busy": "2021-11-21T20:49:58.037552Z",
     "iopub.status.idle": "2021-11-21T20:49:58.043415Z",
     "shell.execute_reply": "2021-11-21T20:49:58.042569Z",
     "shell.execute_reply.started": "2021-11-21T20:49:58.037812Z"
    }
   },
   "outputs": [],
   "source": [
    "name = \"rand_pixel\"\n",
    "proportion = 0.5\n",
    "funcs = {\n",
    "    'rand_pixel':getattr(daug, 'rand_pixel'),\n",
    "     'rand_row':getattr(daug, 'rand_row'),\n",
    "     'rand_column':getattr(daug, 'rand_column'),\n",
    "     'rand_rowcol':getattr(daug, 'rand_rowcol'),\n",
    "     'rand_block':getattr(daug, 'rand_rowcol')\n",
    "    }\n",
    "\n",
    "func_proportions = np.array([1./len(funcs)]*len(funcs))"
   ]
  },
  {
   "cell_type": "code",
   "execution_count": null,
   "metadata": {
    "editable": false,
    "execution": {
     "iopub.execute_input": "2021-11-18T17:17:18.093334Z",
     "iopub.status.busy": "2021-11-18T17:17:18.092852Z",
     "iopub.status.idle": "2021-11-18T18:20:19.739641Z",
     "shell.execute_reply": "2021-11-18T18:20:19.738879Z",
     "shell.execute_reply.started": "2021-11-18T17:17:18.093288Z"
    }
   },
   "outputs": [],
   "source": [
    "model = BasicClassifier(num_classes)\n",
    "model.to(device)\n",
    "(train_metrics,test_metrics) = train(model,train_loader,test_loader,proportion,funcs,func_proportions,NUM_CLASSSES=num_classes,NUM_EPOCHS=250)"
   ]
  },
  {
   "cell_type": "code",
   "execution_count": null,
   "metadata": {
    "execution": {
     "iopub.execute_input": "2021-11-18T18:20:19.741553Z",
     "iopub.status.busy": "2021-11-18T18:20:19.741295Z",
     "iopub.status.idle": "2021-11-18T18:20:20.275046Z",
     "shell.execute_reply": "2021-11-18T18:20:20.274393Z",
     "shell.execute_reply.started": "2021-11-18T18:20:19.74152Z"
    }
   },
   "outputs": [],
   "source": [
    "display_training_metrics('{} - train'.format(name),train_metrics)\n",
    "plt.show()\n",
    "display_training_metrics('{} - test'.format(name),test_metrics)\n",
    "plt.show()"
   ]
  },
  {
   "cell_type": "code",
   "execution_count": null,
   "metadata": {
    "editable": false,
    "execution": {
     "iopub.execute_input": "2021-11-18T18:20:20.276942Z",
     "iopub.status.busy": "2021-11-18T18:20:20.276438Z",
     "iopub.status.idle": "2021-11-18T18:20:20.798149Z",
     "shell.execute_reply": "2021-11-18T18:20:20.797421Z",
     "shell.execute_reply.started": "2021-11-18T18:20:20.276894Z"
    }
   },
   "outputs": [],
   "source": [
    "torch.save(model.state_dict(),'./{}.h5'.format(name))"
   ]
  },
  {
   "cell_type": "markdown",
   "metadata": {},
   "source": [
    "# Multi Model Generator"
   ]
  },
  {
   "cell_type": "code",
   "execution_count": 24,
   "metadata": {
    "execution": {
     "iopub.execute_input": "2021-11-21T22:05:14.262632Z",
     "iopub.status.busy": "2021-11-21T22:05:14.262221Z",
     "iopub.status.idle": "2021-11-21T23:06:49.074005Z",
     "shell.execute_reply": "2021-11-21T23:06:49.073254Z",
     "shell.execute_reply.started": "2021-11-21T22:05:14.262599Z"
    }
   },
   "outputs": [],
   "source": [
    "model_dict = {\n",
    "    'rand_pixel':None,\n",
    "    'rand_row':None,\n",
    "    'rand_column':None,\n",
    "    'rand_rowcol':None,\n",
    "    'rand_block':None,\n",
    "#      'pattern_checkerboard':None,\n",
    "#      'pattern_column':None,\n",
    "#      'pattern_row':None\n",
    "    }\n",
    "\n",
    "proportion = 0.5\n",
    "\n",
    "model_training_info = {model:[None,None] for model in model_dict}\n",
    "\n",
    "for model in model_dict:\n",
    "    model_dict[model] = BasicClassifier(num_classes)\n",
    "    model_dict[model].to(device)\n",
    "    funcs = {model:getattr(daug,model)} # train on its own dataset\n",
    "    func_proportions = [1./len(funcs)]*len(funcs) # evenly split training among data augment functions\n",
    "    model_training_info[model] = train(model_dict[model],train_loader,test_loader,proportion,funcs,func_proportions,True,NUM_CLASSSES=num_classes,NUM_EPOCHS=120)"
   ]
  },
  {
   "cell_type": "code",
   "execution_count": 25,
   "metadata": {
    "execution": {
     "iopub.execute_input": "2021-11-21T23:06:49.075658Z",
     "iopub.status.busy": "2021-11-21T23:06:49.075417Z",
     "iopub.status.idle": "2021-11-21T23:06:51.549602Z",
     "shell.execute_reply": "2021-11-21T23:06:51.548790Z",
     "shell.execute_reply.started": "2021-11-21T23:06:49.075624Z"
    }
   },
   "outputs": [],
   "source": [
    "for model in model_training_info: \n",
    "    display_training_metrics('{} - train'.format(model),model_training_info[model][0])\n",
    "    plt.show()\n",
    "    display_training_metrics('{} - test'.format(model),model_training_info[model][1])\n",
    "    plt.show()"
   ]
  },
  {
   "cell_type": "code",
   "execution_count": 36,
   "metadata": {
    "execution": {
     "iopub.execute_input": "2021-11-21T23:17:44.860872Z",
     "iopub.status.busy": "2021-11-21T23:17:44.860408Z",
     "iopub.status.idle": "2021-11-21T23:17:44.881640Z",
     "shell.execute_reply": "2021-11-21T23:17:44.880604Z",
     "shell.execute_reply.started": "2021-11-21T23:17:44.860832Z"
    }
   },
   "outputs": [],
   "source": [
    "for prop in [0.25,0.5,0.75,'definite']:\n",
    "    try:\n",
    "        os.makedirs('./models/{}/train({})'.format(dataset,prop))\n",
    "    except:\n",
    "        pass # folder exists"
   ]
  },
  {
   "cell_type": "code",
   "execution_count": 34,
   "metadata": {
    "execution": {
     "iopub.execute_input": "2021-11-21T23:13:41.607384Z",
     "iopub.status.busy": "2021-11-21T23:13:41.606631Z",
     "iopub.status.idle": "2021-11-21T23:13:41.613176Z",
     "shell.execute_reply": "2021-11-21T23:13:41.611934Z",
     "shell.execute_reply.started": "2021-11-21T23:13:41.607344Z"
    }
   },
   "outputs": [],
   "source": [
    "for model in model_dict:\n",
    "    torch.save(model_dict[model].state_dict(),'./models/{}/train({})/{}.h5'.format(dataset,proportion,model))"
   ]
  }
 ],
 "metadata": {
  "kernelspec": {
   "display_name": "Python 3",
   "language": "python",
   "name": "python3"
  },
  "language_info": {
   "codemirror_mode": {
    "name": "ipython",
    "version": 3
   },
   "file_extension": ".py",
   "mimetype": "text/x-python",
   "name": "python",
   "nbconvert_exporter": "python",
   "pygments_lexer": "ipython3",
   "version": "3.7.9"
  }
 },
 "nbformat": 4,
 "nbformat_minor": 4
}
